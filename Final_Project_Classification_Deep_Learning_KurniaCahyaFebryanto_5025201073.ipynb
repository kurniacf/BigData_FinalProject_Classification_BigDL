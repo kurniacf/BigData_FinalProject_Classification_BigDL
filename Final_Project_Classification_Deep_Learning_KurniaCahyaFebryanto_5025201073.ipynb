{
  "nbformat": 4,
  "nbformat_minor": 0,
  "metadata": {
    "colab": {
      "provenance": [],
      "toc_visible": true,
      "authorship_tag": "ABX9TyPIWzQ1J6GA2wqjRny4Xh9R"
    },
    "kernelspec": {
      "name": "python3",
      "display_name": "Python 3"
    },
    "language_info": {
      "name": "python"
    }
  },
  "cells": [
    {
      "cell_type": "markdown",
      "source": [
        "# Final Project Big Data - Classification\n",
        "\n",
        "### Apache Spark with Deep Learning Algorithm using BigDL DLlib\n",
        "\n",
        "- Name: Kurnia Cahya Febryanto\n",
        "- Student ID: 5025201073\n",
        "- Class: Big Data A"
      ],
      "metadata": {
        "id": "VWpZmLJ_1izE"
      }
    },
    {
      "cell_type": "markdown",
      "source": [
        "## Table of Contents\n",
        "1. [Dataset Description](#dataset-description)\n",
        "   - [Source of the Dataset](#source-of-the-dataset)\n",
        "   - [Description of the Dataset](#description-of-the-dataset)\n",
        "2. [Data Acquisition](#data-acquisition)\n",
        "   - [Setting Up Kaggle API](#setting-up-kaggle-api)\n",
        "   - [Downloading Dataset](#downloading-dataset)\n",
        "3. [Setting Up the Environment](#setting-up-the-environment)\n",
        "   - [Installation of Dependencies](#installation-of-dependencies)\n",
        "4. [Data Loading and Exploration](#data-loading-and-exploration)\n",
        "   - [Loading Dataset into Spark DataFrame](#loading-dataset-into-spark-dataframe)\n",
        "   - [Initial Data Exploration](#initial-data-exploration)\n",
        "5. [Data Preprocessing](#data-preprocessing)\n",
        "   - [Handling Missing Values](#handling-missing-values)\n",
        "   - [Feature Scaling/Normalization](#feature-scalingnormalization)\n",
        "6. [Feature Engineering](#feature-engineering)\n",
        "   - [Feature Selection](#feature-selection)\n",
        "   - [Feature Preparation](#feature-preparation)\n",
        "7. [Model Building](#model-building)\n",
        "   - [Deep Learning Model Creation using BigDL DLlib](#deep-learning-model-creation-using-bigdl-dllib)\n",
        "8. [Parameter Tuning](#parameter-tuning)\n",
        "   - [Initial Model Training](#initial-model-training)\n",
        "   - [Hyperparameter Tuning](#hyperparameter-tuning)\n",
        "   - [Retraining Model with Optimized Parameters](#retraining-model-with-optimized-parameters)\n",
        "9. [Model Evaluation](#model-evaluation)\n",
        "   - [Accuracy](#accuracy)\n",
        "   - [Confusion Matrix](#confusion-matrix)\n",
        "   - [Precision, Recall, and F1 Score](#precision-recall-f1-score)\n",
        "10. [Visualization](#visualization)\n",
        "    - [Data Visualization during Preprocessing](#data-visualization-during-preprocessing)\n",
        "    - [Data Visualization during Evaluation](#data-visualization-during-evaluation)\n",
        "11. [Conclusion](#conclusion)\n",
        "12. [References](#references)"
      ],
      "metadata": {
        "id": "XncF5X-N_hQo"
      }
    },
    {
      "cell_type": "markdown",
      "source": [
        "## Dataset Description <a name=\"dataset-description\"></a>"
      ],
      "metadata": {
        "id": "vcQk97UJ_uUA"
      }
    },
    {
      "cell_type": "markdown",
      "source": [
        "### Source of the Dataset <a name=\"source-of-the-dataset\"></a>"
      ],
      "metadata": {
        "id": "40RVQ-ia_wO6"
      }
    },
    {
      "cell_type": "markdown",
      "source": [
        "The dataset used in this project is obtained from Kaggle. It is the \"Hotel Reservations Classification Dataset\" and can be found at [Hotel Reservation Dataset](https://www.kaggle.com/ahsan81/hotel-reservations-classification-dataset).\n"
      ],
      "metadata": {
        "id": "NtF26nir_xwW"
      }
    },
    {
      "cell_type": "markdown",
      "source": [
        "### Description of the Dataset <a name=\"description-of-the-dataset\"></a>"
      ],
      "metadata": {
        "id": "y2Jrg3CyAAOG"
      }
    },
    {
      "cell_type": "markdown",
      "source": [
        "The `Hotel Reservations Classification Dataset` provides data pertaining to hotel reservations, which includes a variety of factors such as booking changes, deposit type, days in waiting list, and other customer details.\n",
        "\n",
        "With the advent of online hotel reservation channels, booking behaviors of customers have significantly evolved. However, a substantial number of these reservations get cancelled or result in no-shows due to various reasons like change of plans or scheduling conflicts. While the option to cancel free of charge or at a low cost is advantageous for hotel guests, it often results in potential revenue loss for hotels.\n",
        "\n",
        "Therefore, the objective of this project is to use this dataset to build a machine learning model that can predict whether a hotel booking will be cancelled or not. This information can potentially help hotels in better managing their resources and maximizing their revenues."
      ],
      "metadata": {
        "id": "6Jf87QM0ABud"
      }
    },
    {
      "cell_type": "markdown",
      "source": [
        "## Data Acquisition <a name=\"data-acquisition\"></a>"
      ],
      "metadata": {
        "id": "PufXUD4_ADUK"
      }
    },
    {
      "cell_type": "markdown",
      "source": [
        "### Setting Up Kaggle API <a name=\"setting-up-kaggle-api\"></a>"
      ],
      "metadata": {
        "id": "Qj6WzD7ZAEgG"
      }
    },
    {
      "cell_type": "markdown",
      "source": [
        "To utilize Kaggle's datasets directly, we need to setup Kaggle API. You can download your kaggle.json file\n",
        "from your Kaggle account settings page. The kaggle.json file is a token that connects the API to your account.\n",
        "\n",
        "Steps to upload kaggle.json in Google Colab:\n",
        "1. Run the code cell below.\n",
        "2. A `Choose Files` button will appear. Click on it.\n",
        "3. Navigate to the location of your kaggle.json file and select it."
      ],
      "metadata": {
        "id": "lg_tK4rWAFcd"
      }
    },
    {
      "cell_type": "code",
      "execution_count": 1,
      "metadata": {
        "id": "zzveR7-S1iSq"
      },
      "outputs": [],
      "source": [
        "# Import necessary library\n",
        "from google.colab import files"
      ]
    },
    {
      "cell_type": "code",
      "source": [
        "# Upload kaggle.json\n",
        "files.upload()"
      ],
      "metadata": {
        "colab": {
          "base_uri": "https://localhost:8080/",
          "height": 92
        },
        "id": "Oq6Ttf6fAIHS",
        "outputId": "1d5a2a0e-e4a6-40a4-a2c9-26a6b1b0b6ce"
      },
      "execution_count": 2,
      "outputs": [
        {
          "output_type": "display_data",
          "data": {
            "text/plain": [
              "<IPython.core.display.HTML object>"
            ],
            "text/html": [
              "\n",
              "     <input type=\"file\" id=\"files-9cb13bd6-4348-41fc-9b57-f5be1ed7b082\" name=\"files[]\" multiple disabled\n",
              "        style=\"border:none\" />\n",
              "     <output id=\"result-9cb13bd6-4348-41fc-9b57-f5be1ed7b082\">\n",
              "      Upload widget is only available when the cell has been executed in the\n",
              "      current browser session. Please rerun this cell to enable.\n",
              "      </output>\n",
              "      <script>// Copyright 2017 Google LLC\n",
              "//\n",
              "// Licensed under the Apache License, Version 2.0 (the \"License\");\n",
              "// you may not use this file except in compliance with the License.\n",
              "// You may obtain a copy of the License at\n",
              "//\n",
              "//      http://www.apache.org/licenses/LICENSE-2.0\n",
              "//\n",
              "// Unless required by applicable law or agreed to in writing, software\n",
              "// distributed under the License is distributed on an \"AS IS\" BASIS,\n",
              "// WITHOUT WARRANTIES OR CONDITIONS OF ANY KIND, either express or implied.\n",
              "// See the License for the specific language governing permissions and\n",
              "// limitations under the License.\n",
              "\n",
              "/**\n",
              " * @fileoverview Helpers for google.colab Python module.\n",
              " */\n",
              "(function(scope) {\n",
              "function span(text, styleAttributes = {}) {\n",
              "  const element = document.createElement('span');\n",
              "  element.textContent = text;\n",
              "  for (const key of Object.keys(styleAttributes)) {\n",
              "    element.style[key] = styleAttributes[key];\n",
              "  }\n",
              "  return element;\n",
              "}\n",
              "\n",
              "// Max number of bytes which will be uploaded at a time.\n",
              "const MAX_PAYLOAD_SIZE = 100 * 1024;\n",
              "\n",
              "function _uploadFiles(inputId, outputId) {\n",
              "  const steps = uploadFilesStep(inputId, outputId);\n",
              "  const outputElement = document.getElementById(outputId);\n",
              "  // Cache steps on the outputElement to make it available for the next call\n",
              "  // to uploadFilesContinue from Python.\n",
              "  outputElement.steps = steps;\n",
              "\n",
              "  return _uploadFilesContinue(outputId);\n",
              "}\n",
              "\n",
              "// This is roughly an async generator (not supported in the browser yet),\n",
              "// where there are multiple asynchronous steps and the Python side is going\n",
              "// to poll for completion of each step.\n",
              "// This uses a Promise to block the python side on completion of each step,\n",
              "// then passes the result of the previous step as the input to the next step.\n",
              "function _uploadFilesContinue(outputId) {\n",
              "  const outputElement = document.getElementById(outputId);\n",
              "  const steps = outputElement.steps;\n",
              "\n",
              "  const next = steps.next(outputElement.lastPromiseValue);\n",
              "  return Promise.resolve(next.value.promise).then((value) => {\n",
              "    // Cache the last promise value to make it available to the next\n",
              "    // step of the generator.\n",
              "    outputElement.lastPromiseValue = value;\n",
              "    return next.value.response;\n",
              "  });\n",
              "}\n",
              "\n",
              "/**\n",
              " * Generator function which is called between each async step of the upload\n",
              " * process.\n",
              " * @param {string} inputId Element ID of the input file picker element.\n",
              " * @param {string} outputId Element ID of the output display.\n",
              " * @return {!Iterable<!Object>} Iterable of next steps.\n",
              " */\n",
              "function* uploadFilesStep(inputId, outputId) {\n",
              "  const inputElement = document.getElementById(inputId);\n",
              "  inputElement.disabled = false;\n",
              "\n",
              "  const outputElement = document.getElementById(outputId);\n",
              "  outputElement.innerHTML = '';\n",
              "\n",
              "  const pickedPromise = new Promise((resolve) => {\n",
              "    inputElement.addEventListener('change', (e) => {\n",
              "      resolve(e.target.files);\n",
              "    });\n",
              "  });\n",
              "\n",
              "  const cancel = document.createElement('button');\n",
              "  inputElement.parentElement.appendChild(cancel);\n",
              "  cancel.textContent = 'Cancel upload';\n",
              "  const cancelPromise = new Promise((resolve) => {\n",
              "    cancel.onclick = () => {\n",
              "      resolve(null);\n",
              "    };\n",
              "  });\n",
              "\n",
              "  // Wait for the user to pick the files.\n",
              "  const files = yield {\n",
              "    promise: Promise.race([pickedPromise, cancelPromise]),\n",
              "    response: {\n",
              "      action: 'starting',\n",
              "    }\n",
              "  };\n",
              "\n",
              "  cancel.remove();\n",
              "\n",
              "  // Disable the input element since further picks are not allowed.\n",
              "  inputElement.disabled = true;\n",
              "\n",
              "  if (!files) {\n",
              "    return {\n",
              "      response: {\n",
              "        action: 'complete',\n",
              "      }\n",
              "    };\n",
              "  }\n",
              "\n",
              "  for (const file of files) {\n",
              "    const li = document.createElement('li');\n",
              "    li.append(span(file.name, {fontWeight: 'bold'}));\n",
              "    li.append(span(\n",
              "        `(${file.type || 'n/a'}) - ${file.size} bytes, ` +\n",
              "        `last modified: ${\n",
              "            file.lastModifiedDate ? file.lastModifiedDate.toLocaleDateString() :\n",
              "                                    'n/a'} - `));\n",
              "    const percent = span('0% done');\n",
              "    li.appendChild(percent);\n",
              "\n",
              "    outputElement.appendChild(li);\n",
              "\n",
              "    const fileDataPromise = new Promise((resolve) => {\n",
              "      const reader = new FileReader();\n",
              "      reader.onload = (e) => {\n",
              "        resolve(e.target.result);\n",
              "      };\n",
              "      reader.readAsArrayBuffer(file);\n",
              "    });\n",
              "    // Wait for the data to be ready.\n",
              "    let fileData = yield {\n",
              "      promise: fileDataPromise,\n",
              "      response: {\n",
              "        action: 'continue',\n",
              "      }\n",
              "    };\n",
              "\n",
              "    // Use a chunked sending to avoid message size limits. See b/62115660.\n",
              "    let position = 0;\n",
              "    do {\n",
              "      const length = Math.min(fileData.byteLength - position, MAX_PAYLOAD_SIZE);\n",
              "      const chunk = new Uint8Array(fileData, position, length);\n",
              "      position += length;\n",
              "\n",
              "      const base64 = btoa(String.fromCharCode.apply(null, chunk));\n",
              "      yield {\n",
              "        response: {\n",
              "          action: 'append',\n",
              "          file: file.name,\n",
              "          data: base64,\n",
              "        },\n",
              "      };\n",
              "\n",
              "      let percentDone = fileData.byteLength === 0 ?\n",
              "          100 :\n",
              "          Math.round((position / fileData.byteLength) * 100);\n",
              "      percent.textContent = `${percentDone}% done`;\n",
              "\n",
              "    } while (position < fileData.byteLength);\n",
              "  }\n",
              "\n",
              "  // All done.\n",
              "  yield {\n",
              "    response: {\n",
              "      action: 'complete',\n",
              "    }\n",
              "  };\n",
              "}\n",
              "\n",
              "scope.google = scope.google || {};\n",
              "scope.google.colab = scope.google.colab || {};\n",
              "scope.google.colab._files = {\n",
              "  _uploadFiles,\n",
              "  _uploadFilesContinue,\n",
              "};\n",
              "})(self);\n",
              "</script> "
            ]
          },
          "metadata": {}
        },
        {
          "output_type": "stream",
          "name": "stdout",
          "text": [
            "Saving kaggle.json to kaggle.json\n"
          ]
        },
        {
          "output_type": "execute_result",
          "data": {
            "text/plain": [
              "{'kaggle.json': b'{\"username\":\"kurniacahyaf\",\"key\":\"e3f28eef4d71d12989a5e93314b3e05b\"}'}"
            ]
          },
          "metadata": {},
          "execution_count": 2
        }
      ]
    },
    {
      "cell_type": "code",
      "source": [
        "# Make directory named kaggle and copy kaggle.json file there.\n",
        "!mkdir -p ~/.kaggle\n",
        "!cp kaggle.json ~/.kaggle/\n",
        "\n",
        "# Change the permissions of the file.\n",
        "!chmod 600 ~/.kaggle/kaggle.json"
      ],
      "metadata": {
        "id": "UD1W131pAMfx"
      },
      "execution_count": 3,
      "outputs": []
    },
    {
      "cell_type": "markdown",
      "source": [
        "### Downloading Dataset <a name=\"downloading-dataset\"></a>"
      ],
      "metadata": {
        "id": "ghnUzu9wAOQ3"
      }
    },
    {
      "cell_type": "markdown",
      "source": [
        "After setting up the Kaggle API, we can now download our dataset. We will download the `Hotel Reservations Classification Dataset` from Kaggle. The dataset will be downloaded as a zip file. We will need to unzip the file to extract the data."
      ],
      "metadata": {
        "id": "X7rUuSGAAP5Y"
      }
    },
    {
      "cell_type": "code",
      "source": [
        "# Installation of Kaggle Package\n",
        "!pip install -q kaggle"
      ],
      "metadata": {
        "id": "DcPa2HauAPlM"
      },
      "execution_count": 4,
      "outputs": []
    },
    {
      "cell_type": "code",
      "source": [
        "# Now we can import the dataset\n",
        "!kaggle datasets download -d ahsan81/hotel-reservations-classification-dataset"
      ],
      "metadata": {
        "colab": {
          "base_uri": "https://localhost:8080/"
        },
        "id": "x0gXA8iJAgjd",
        "outputId": "873aa2ad-2ca3-4703-c1c6-5173a42c5974"
      },
      "execution_count": 5,
      "outputs": [
        {
          "output_type": "stream",
          "name": "stdout",
          "text": [
            "Downloading hotel-reservations-classification-dataset.zip to /content\n",
            "\r  0% 0.00/480k [00:00<?, ?B/s]\n",
            "\r100% 480k/480k [00:00<00:00, 178MB/s]\n"
          ]
        }
      ]
    },
    {
      "cell_type": "code",
      "source": [
        "# The dataset is downloaded as a zip file, we need to unzip it\n",
        "!unzip \\*.zip  && rm *.zip"
      ],
      "metadata": {
        "colab": {
          "base_uri": "https://localhost:8080/"
        },
        "id": "mKQIK5hNAh6H",
        "outputId": "98fb6cf4-16bd-4dd7-895f-a22fcbae5398"
      },
      "execution_count": 6,
      "outputs": [
        {
          "output_type": "stream",
          "name": "stdout",
          "text": [
            "Archive:  hotel-reservations-classification-dataset.zip\n",
            "  inflating: Hotel Reservations.csv  \n"
          ]
        }
      ]
    },
    {
      "cell_type": "code",
      "source": [
        "# Check if the dataset has been unzipped successfully\n",
        "!ls"
      ],
      "metadata": {
        "colab": {
          "base_uri": "https://localhost:8080/"
        },
        "id": "DIxtUCDFAjIH",
        "outputId": "db10dbc1-6e1a-446d-de2e-d606efca2c78"
      },
      "execution_count": 7,
      "outputs": [
        {
          "output_type": "stream",
          "name": "stdout",
          "text": [
            "'Hotel Reservations.csv'   kaggle.json\t sample_data\n"
          ]
        }
      ]
    },
    {
      "cell_type": "markdown",
      "source": [
        "## Setting Up the Environment <a name=\"setting-up-the-environment\"></a>"
      ],
      "metadata": {
        "id": "5KZS014eAx27"
      }
    },
    {
      "cell_type": "markdown",
      "source": [
        "Before we start our data analysis, we need to set up our environment. We are using Google Colab which is a free cloud service. We will install all the required dependencies including Apache Spark. We also need to install PySpark, which is the Python library for Spark.\n"
      ],
      "metadata": {
        "id": "monIBNwmAy_X"
      }
    },
    {
      "cell_type": "markdown",
      "source": [
        "### Installation of Dependencies <a name=\"installation-of-dependencies\"></a>"
      ],
      "metadata": {
        "id": "Yaok4PBfA0QR"
      }
    },
    {
      "cell_type": "markdown",
      "source": [
        "The dependencies we need to install include pandas, numpy, matplotlib and seaborn for data manipulation and visualization. We also need to install pyspark which is the Python library for Spark and Bigdl.\n"
      ],
      "metadata": {
        "id": "11jXust2A1em"
      }
    },
    {
      "cell_type": "code",
      "source": [
        "!pip install --pre --upgrade bigdl-dllib-spark3"
      ],
      "metadata": {
        "colab": {
          "base_uri": "https://localhost:8080/"
        },
        "id": "rJqJI2r-GrAk",
        "outputId": "5a1bdae3-1643-478e-b30a-c17174df9789"
      },
      "execution_count": 8,
      "outputs": [
        {
          "output_type": "stream",
          "name": "stdout",
          "text": [
            "Looking in indexes: https://pypi.org/simple, https://us-python.pkg.dev/colab-wheels/public/simple/\n",
            "Collecting bigdl-dllib-spark3\n",
            "  Downloading bigdl_dllib_spark3-2.4.0b20230615-py3-none-manylinux1_x86_64.whl (61.4 MB)\n",
            "\u001b[2K     \u001b[90m━━━━━━━━━━━━━━━━━━━━━━━━━━━━━━━━━━━━━━━━\u001b[0m \u001b[32m61.4/61.4 MB\u001b[0m \u001b[31m12.3 MB/s\u001b[0m eta \u001b[36m0:00:00\u001b[0m\n",
            "\u001b[?25hRequirement already satisfied: numpy>=1.19.5 in /usr/local/lib/python3.10/dist-packages (from bigdl-dllib-spark3) (1.22.4)\n",
            "Collecting pyspark==3.1.3 (from bigdl-dllib-spark3)\n",
            "  Downloading pyspark-3.1.3.tar.gz (214.0 MB)\n",
            "\u001b[2K     \u001b[90m━━━━━━━━━━━━━━━━━━━━━━━━━━━━━━━━━━━━━━━\u001b[0m \u001b[32m214.0/214.0 MB\u001b[0m \u001b[31m6.4 MB/s\u001b[0m eta \u001b[36m0:00:00\u001b[0m\n",
            "\u001b[?25h  Preparing metadata (setup.py) ... \u001b[?25l\u001b[?25hdone\n",
            "Collecting conda-pack==0.3.1 (from bigdl-dllib-spark3)\n",
            "  Downloading conda_pack-0.3.1-py2.py3-none-any.whl (27 kB)\n",
            "Requirement already satisfied: six>=1.10.0 in /usr/local/lib/python3.10/dist-packages (from bigdl-dllib-spark3) (1.16.0)\n",
            "Collecting bigdl-core==2.4.0.dev0 (from bigdl-dllib-spark3)\n",
            "  Downloading bigdl_core-2.4.0.dev0-py3-none-manylinux2010_x86_64.whl (51.7 MB)\n",
            "\u001b[2K     \u001b[90m━━━━━━━━━━━━━━━━━━━━━━━━━━━━━━━━━━━━━━━━\u001b[0m \u001b[32m51.7/51.7 MB\u001b[0m \u001b[31m12.3 MB/s\u001b[0m eta \u001b[36m0:00:00\u001b[0m\n",
            "\u001b[?25hRequirement already satisfied: setuptools in /usr/local/lib/python3.10/dist-packages (from conda-pack==0.3.1->bigdl-dllib-spark3) (67.7.2)\n",
            "Collecting py4j==0.10.9 (from pyspark==3.1.3->bigdl-dllib-spark3)\n",
            "  Downloading py4j-0.10.9-py2.py3-none-any.whl (198 kB)\n",
            "\u001b[2K     \u001b[90m━━━━━━━━━━━━━━━━━━━━━━━━━━━━━━━━━━━━━━\u001b[0m \u001b[32m198.6/198.6 kB\u001b[0m \u001b[31m22.5 MB/s\u001b[0m eta \u001b[36m0:00:00\u001b[0m\n",
            "\u001b[?25hBuilding wheels for collected packages: pyspark\n",
            "  Building wheel for pyspark (setup.py) ... \u001b[?25l\u001b[?25hdone\n",
            "  Created wheel for pyspark: filename=pyspark-3.1.3-py2.py3-none-any.whl size=214463469 sha256=72a769cf18f2bc674e4fbdd46f9141b58f5740e05d260fec6d347f2f8e4d6917\n",
            "  Stored in directory: /root/.cache/pip/wheels/b0/d0/fd/b0e0165f0fbd79838d2f50c544382e7a5346274f0af07ffada\n",
            "Successfully built pyspark\n",
            "Installing collected packages: py4j, bigdl-core, pyspark, conda-pack, bigdl-dllib-spark3\n",
            "  Attempting uninstall: py4j\n",
            "    Found existing installation: py4j 0.10.9.7\n",
            "    Uninstalling py4j-0.10.9.7:\n",
            "      Successfully uninstalled py4j-0.10.9.7\n",
            "Successfully installed bigdl-core-2.4.0.dev0 bigdl-dllib-spark3-2.4.0b20230615 conda-pack-0.3.1 py4j-0.10.9 pyspark-3.1.3\n"
          ]
        }
      ]
    },
    {
      "cell_type": "code",
      "source": [
        "from pyspark.sql import SparkSession\n",
        "from pyspark.sql.types import DoubleType\n",
        "from pyspark.sql.functions import lit\n",
        "from pyspark.ml.feature import VectorAssembler\n",
        "from pyspark.ml.evaluation import MulticlassClassificationEvaluator\n",
        "\n",
        "from bigdl.dllib.nncontext import *\n",
        "from bigdl.dllib.keras.layers import *\n",
        "from bigdl.dllib.keras.models import *\n",
        "import bigdl.dllib.keras.Sequential\n",
        "from bigdl.dllib.nnframes import *\n",
        "from bigdl.dllib.nn.criterion import *"
      ],
      "metadata": {
        "id": "pXM4kZx4DrIx"
      },
      "execution_count": 9,
      "outputs": []
    },
    {
      "cell_type": "code",
      "source": [
        "sc = init_nncontext(cluster_mode=\"local\") # run in local mode\n",
        "spark = SparkSession(sc)"
      ],
      "metadata": {
        "colab": {
          "base_uri": "https://localhost:8080/"
        },
        "id": "IWJN6is7H8IB",
        "outputId": "23a0b22d-becd-46cf-96e8-118e02057c1c"
      },
      "execution_count": 10,
      "outputs": [
        {
          "output_type": "stream",
          "name": "stdout",
          "text": [
            "Current pyspark location is : /usr/local/lib/python3.10/dist-packages/pyspark/__init__.py\n",
            "Start to getOrCreate SparkContext\n",
            "pyspark_submit_args is:  --driver-class-path /usr/local/lib/python3.10/dist-packages/bigdl/share/dllib/lib/bigdl-dllib-spark_3.1.3-2.4.0-SNAPSHOT-jar-with-dependencies.jar:/usr/local/lib/python3.10/dist-packages/bigdl/share/core/lib/all-2.4.0-20230420.050641-1.jar pyspark-shell \n",
            "Successfully got a SparkContext\n"
          ]
        }
      ]
    },
    {
      "cell_type": "markdown",
      "source": [
        "## Data Loading and Exploration <a name=\"data-loading-and-exploration\"></a>"
      ],
      "metadata": {
        "id": "Y5E9EJVwBaPk"
      }
    },
    {
      "cell_type": "markdown",
      "source": [
        "\n",
        "Data Loading and Exploration <a name=\"data-loading-and-exploration\"></a>\n",
        "In this step, we will load the dataset into a Spark DataFrame and perform some initial explorations."
      ],
      "metadata": {
        "id": "T6AOp8t2TZx_"
      }
    },
    {
      "cell_type": "markdown",
      "source": [
        "### Loading Dataset into Spark DataFrame <a name=\"loading-dataset-into-spark-dataframe\"></a>"
      ],
      "metadata": {
        "id": "LKq87tErTcHg"
      }
    },
    {
      "cell_type": "code",
      "source": [
        "# Path to the dataset\n",
        "data_path = \"Hotel Reservations.csv\"\n",
        "\n",
        "# Load the data into a DataFrame\n",
        "df = spark.read.format('csv')\\\n",
        "      .option('header', 'true')\\\n",
        "      .option('inferSchema', 'true')\\\n",
        "      .load(data_path)"
      ],
      "metadata": {
        "id": "0H7s7dj8Tfsj"
      },
      "execution_count": 261,
      "outputs": []
    },
    {
      "cell_type": "code",
      "source": [
        "df.show(5)"
      ],
      "metadata": {
        "colab": {
          "base_uri": "https://localhost:8080/"
        },
        "id": "vP1wRBa7TpVW",
        "outputId": "6cf8e509-1a7b-43d2-be8b-65102353bae0"
      },
      "execution_count": 220,
      "outputs": [
        {
          "output_type": "stream",
          "name": "stdout",
          "text": [
            "+----------+------------+--------------+--------------------+-----------------+-----------------+--------------------------+------------------+---------+------------+-------------+------------+-------------------+--------------+----------------------------+------------------------------------+------------------+----------------------+--------------+\n",
            "|Booking_ID|no_of_adults|no_of_children|no_of_weekend_nights|no_of_week_nights|type_of_meal_plan|required_car_parking_space|room_type_reserved|lead_time|arrival_year|arrival_month|arrival_date|market_segment_type|repeated_guest|no_of_previous_cancellations|no_of_previous_bookings_not_canceled|avg_price_per_room|no_of_special_requests|booking_status|\n",
            "+----------+------------+--------------+--------------------+-----------------+-----------------+--------------------------+------------------+---------+------------+-------------+------------+-------------------+--------------+----------------------------+------------------------------------+------------------+----------------------+--------------+\n",
            "|  INN00001|           2|             0|                   1|                2|      Meal Plan 1|                         0|       Room_Type 1|      224|        2017|           10|           2|            Offline|             0|                           0|                                   0|              65.0|                     0|  Not_Canceled|\n",
            "|  INN00002|           2|             0|                   2|                3|     Not Selected|                         0|       Room_Type 1|        5|        2018|           11|           6|             Online|             0|                           0|                                   0|            106.68|                     1|  Not_Canceled|\n",
            "|  INN00003|           1|             0|                   2|                1|      Meal Plan 1|                         0|       Room_Type 1|        1|        2018|            2|          28|             Online|             0|                           0|                                   0|              60.0|                     0|      Canceled|\n",
            "|  INN00004|           2|             0|                   0|                2|      Meal Plan 1|                         0|       Room_Type 1|      211|        2018|            5|          20|             Online|             0|                           0|                                   0|             100.0|                     0|      Canceled|\n",
            "|  INN00005|           2|             0|                   1|                1|     Not Selected|                         0|       Room_Type 1|       48|        2018|            4|          11|             Online|             0|                           0|                                   0|              94.5|                     0|      Canceled|\n",
            "+----------+------------+--------------+--------------------+-----------------+-----------------+--------------------------+------------------+---------+------------+-------------+------------+-------------------+--------------+----------------------------+------------------------------------+------------------+----------------------+--------------+\n",
            "only showing top 5 rows\n",
            "\n"
          ]
        }
      ]
    },
    {
      "cell_type": "markdown",
      "source": [
        "### Initial Data Exploration <a name=\"initial-data-exploration\"></a>"
      ],
      "metadata": {
        "id": "AXQM2qiJTvSF"
      }
    },
    {
      "cell_type": "markdown",
      "source": [
        "Let's perform some initial data exploration to better understand our data."
      ],
      "metadata": {
        "id": "I9fQl12qTyNN"
      }
    },
    {
      "cell_type": "code",
      "source": [
        "# Print the schema of the DataFrame\n",
        "df.printSchema()"
      ],
      "metadata": {
        "colab": {
          "base_uri": "https://localhost:8080/"
        },
        "id": "e0SHtT9VTxzp",
        "outputId": "4d410775-a90c-4d7c-d8be-81ce26a43eef"
      },
      "execution_count": 13,
      "outputs": [
        {
          "output_type": "stream",
          "name": "stdout",
          "text": [
            "root\n",
            " |-- Booking_ID: string (nullable = true)\n",
            " |-- no_of_adults: integer (nullable = true)\n",
            " |-- no_of_children: integer (nullable = true)\n",
            " |-- no_of_weekend_nights: integer (nullable = true)\n",
            " |-- no_of_week_nights: integer (nullable = true)\n",
            " |-- type_of_meal_plan: string (nullable = true)\n",
            " |-- required_car_parking_space: integer (nullable = true)\n",
            " |-- room_type_reserved: string (nullable = true)\n",
            " |-- lead_time: integer (nullable = true)\n",
            " |-- arrival_year: integer (nullable = true)\n",
            " |-- arrival_month: integer (nullable = true)\n",
            " |-- arrival_date: integer (nullable = true)\n",
            " |-- market_segment_type: string (nullable = true)\n",
            " |-- repeated_guest: integer (nullable = true)\n",
            " |-- no_of_previous_cancellations: integer (nullable = true)\n",
            " |-- no_of_previous_bookings_not_canceled: integer (nullable = true)\n",
            " |-- avg_price_per_room: double (nullable = true)\n",
            " |-- no_of_special_requests: integer (nullable = true)\n",
            " |-- booking_status: string (nullable = true)\n",
            "\n"
          ]
        }
      ]
    },
    {
      "cell_type": "code",
      "source": [
        "# Print the number of rows and columns\n",
        "print(f\"Number of rows: {df.count()}\")\n",
        "print(f\"Number of columns: {len(df.columns)}\")"
      ],
      "metadata": {
        "colab": {
          "base_uri": "https://localhost:8080/"
        },
        "id": "ZZbwf_ilTu2S",
        "outputId": "02f00b07-cc02-4170-84f8-b41385cac710"
      },
      "execution_count": 14,
      "outputs": [
        {
          "output_type": "stream",
          "name": "stdout",
          "text": [
            "Number of rows: 36275\n",
            "Number of columns: 19\n"
          ]
        }
      ]
    },
    {
      "cell_type": "code",
      "source": [
        "# Print summary statistics\n",
        "df.describe().show()"
      ],
      "metadata": {
        "colab": {
          "base_uri": "https://localhost:8080/"
        },
        "id": "SgPkiNWKT5vN",
        "outputId": "de3d6689-2171-441e-dcec-54e83fed0f52"
      },
      "execution_count": 15,
      "outputs": [
        {
          "output_type": "stream",
          "name": "stdout",
          "text": [
            "+-------+----------+------------------+-------------------+--------------------+------------------+-----------------+--------------------------+------------------+-----------------+------------------+------------------+------------------+-------------------+-------------------+----------------------------+------------------------------------+------------------+----------------------+--------------+\n",
            "|summary|Booking_ID|      no_of_adults|     no_of_children|no_of_weekend_nights| no_of_week_nights|type_of_meal_plan|required_car_parking_space|room_type_reserved|        lead_time|      arrival_year|     arrival_month|      arrival_date|market_segment_type|     repeated_guest|no_of_previous_cancellations|no_of_previous_bookings_not_canceled|avg_price_per_room|no_of_special_requests|booking_status|\n",
            "+-------+----------+------------------+-------------------+--------------------+------------------+-----------------+--------------------------+------------------+-----------------+------------------+------------------+------------------+-------------------+-------------------+----------------------------+------------------------------------+------------------+----------------------+--------------+\n",
            "|  count|     36275|             36275|              36275|               36275|             36275|            36275|                     36275|             36275|            36275|             36275|             36275|             36275|              36275|              36275|                       36275|                               36275|             36275|                 36275|         36275|\n",
            "|   mean|      null|1.8449620951068229|0.10527911784975878|   0.810723638869745|2.2043004824259134|             null|        0.0309855272226051|              null|85.23255685733976|2017.8204272915232| 7.423652653342522|15.596995175740869|               null|0.02563749138525155|        0.023349414197105445|                 0.15341144038594073| 103.4235390764958|    0.6196554100620262|          null|\n",
            "| stddev|      null|0.5187148379012908| 0.4026480635892787|   0.870643614759999|1.4109048548240162|             null|       0.17328084736891436|              null|85.93081669923292|0.3838364395590116|3.0698944112257633| 8.740447368632918|               null|0.15805346903513293|         0.36833144791978645|                  1.7541707114426341| 35.08942403637024|    0.7862358983956053|          null|\n",
            "|    min|  INN00001|                 0|                  0|                   0|                 0|      Meal Plan 1|                         0|       Room_Type 1|                0|              2017|                 1|                 1|           Aviation|                  0|                           0|                                   0|               0.0|                     0|      Canceled|\n",
            "|    max|  INN36275|                 4|                 10|                   7|                17|     Not Selected|                         1|       Room_Type 7|              443|              2018|                12|                31|             Online|                  1|                          13|                                  58|             540.0|                     5|  Not_Canceled|\n",
            "+-------+----------+------------------+-------------------+--------------------+------------------+-----------------+--------------------------+------------------+-----------------+------------------+------------------+------------------+-------------------+-------------------+----------------------------+------------------------------------+------------------+----------------------+--------------+\n",
            "\n"
          ]
        }
      ]
    },
    {
      "cell_type": "code",
      "source": [
        "# Print the distribution of the target variable\n",
        "df.groupBy('booking_status').count().show()"
      ],
      "metadata": {
        "colab": {
          "base_uri": "https://localhost:8080/"
        },
        "id": "mR_8cJLiU7fU",
        "outputId": "61c03800-c9db-409f-e35f-1af3216d90b9"
      },
      "execution_count": 16,
      "outputs": [
        {
          "output_type": "stream",
          "name": "stdout",
          "text": [
            "+--------------+-----+\n",
            "|booking_status|count|\n",
            "+--------------+-----+\n",
            "|  Not_Canceled|24390|\n",
            "|      Canceled|11885|\n",
            "+--------------+-----+\n",
            "\n"
          ]
        }
      ]
    },
    {
      "cell_type": "markdown",
      "source": [
        "## Data Preprocessing <a name=\"data-preprocessing\"></a>"
      ],
      "metadata": {
        "id": "SRFT1ht4WGrj"
      }
    },
    {
      "cell_type": "markdown",
      "source": [
        "### Handling Missing Values <a name=\"handling-missing-values\"></a>"
      ],
      "metadata": {
        "id": "cWiAvyz-WIwF"
      }
    },
    {
      "cell_type": "markdown",
      "source": [
        "In this step, we are going to handle missing values if any. We'll use Spark's DataFrame API's fillna function. Here we're assuming that you want to fill the numerical column missing values with the mean of their respective columns, and the categorical column missing values with the mode of their respective columns."
      ],
      "metadata": {
        "id": "wcD5Cj-gaaMd"
      }
    },
    {
      "cell_type": "code",
      "source": [
        "# Importing necessary libraries\n",
        "from pyspark.sql.functions import mean\n",
        "from pyspark.sql.functions import mean, when, isnan, col, count\n",
        "from pyspark.ml.feature import StringIndexer, OneHotEncoder, VectorAssembler\n",
        "from pyspark.ml import Pipeline"
      ],
      "metadata": {
        "id": "tSHbt46bWQw5"
      },
      "execution_count": 17,
      "outputs": []
    },
    {
      "cell_type": "markdown",
      "source": [
        "Then, fill the missing values:"
      ],
      "metadata": {
        "id": "Dx65yz-MaXXT"
      }
    },
    {
      "cell_type": "code",
      "source": [
        "numerical_columns = ['no_of_adults', 'no_of_children', 'no_of_weekend_nights', 'no_of_week_nights',\n",
        "                     'required_car_parking_space', 'lead_time', 'arrival_year', 'arrival_month',\n",
        "                     'arrival_date', 'repeated_guest', 'no_of_previous_cancellations',\n",
        "                     'no_of_previous_bookings_not_canceled', 'avg_price_per_room', 'no_of_special_requests']\n",
        "\n",
        "categorical_columns = ['type_of_meal_plan', 'room_type_reserved', 'booking_status']"
      ],
      "metadata": {
        "id": "hc0wY6kYYYqp"
      },
      "execution_count": 18,
      "outputs": []
    },
    {
      "cell_type": "code",
      "source": [
        "print(df.columns)"
      ],
      "metadata": {
        "colab": {
          "base_uri": "https://localhost:8080/"
        },
        "id": "WLxaX5rse6-v",
        "outputId": "ce179db7-7ed9-477e-d1bd-ab4d33f431a4"
      },
      "execution_count": 19,
      "outputs": [
        {
          "output_type": "stream",
          "name": "stdout",
          "text": [
            "['Booking_ID', 'no_of_adults', 'no_of_children', 'no_of_weekend_nights', 'no_of_week_nights', 'type_of_meal_plan', 'required_car_parking_space', 'room_type_reserved', 'lead_time', 'arrival_year', 'arrival_month', 'arrival_date', 'market_segment_type', 'repeated_guest', 'no_of_previous_cancellations', 'no_of_previous_bookings_not_canceled', 'avg_price_per_room', 'no_of_special_requests', 'booking_status']\n"
          ]
        }
      ]
    },
    {
      "cell_type": "code",
      "source": [
        "# Handling missing values for numerical columns\n",
        "for column in numerical_columns:\n",
        "    mean_value = df.select(mean(df[column])).collect()[0][0]\n",
        "    df = df.fillna(mean_value, subset=[column])"
      ],
      "metadata": {
        "id": "d3RZbUS6ekhF"
      },
      "execution_count": 20,
      "outputs": []
    },
    {
      "cell_type": "code",
      "source": [
        "# Handling missing values for categorical columns\n",
        "for column in categorical_columns:\n",
        "    mode_value = df.filter(df[column].isNotNull()).groupBy(column).count().orderBy('count', ascending=False).first()[0]\n",
        "    df = df.fillna(mode_value, subset=[column])"
      ],
      "metadata": {
        "id": "4YsPg4EJelE1"
      },
      "execution_count": 21,
      "outputs": []
    },
    {
      "cell_type": "code",
      "source": [
        "# Assuming 'type_of_meal_plan' and 'room_type_reserved' are categorical columns with missing values\n",
        "mode_type_of_meal_plan = df.filter(df.type_of_meal_plan.isNotNull()).groupBy(\"type_of_meal_plan\").count().orderBy('count', ascending=False).first()[0]\n",
        "mode_room_type_reserved = df.filter(df.room_type_reserved.isNotNull()).groupBy(\"room_type_reserved\").count().orderBy('count', ascending=False).first()[0]\n",
        "\n",
        "df = df.fillna(mode_type_of_meal_plan, subset=['type_of_meal_plan'])\n",
        "df = df.fillna(mode_room_type_reserved, subset=['room_type_reserved'])"
      ],
      "metadata": {
        "id": "YnlcAaaXaRK5"
      },
      "execution_count": 22,
      "outputs": []
    },
    {
      "cell_type": "code",
      "source": [
        "# Check again for missing values\n",
        "df.select([count(when(isnan(c) | col(c).isNull(), c)).alias(c) for c in df.columns]).show()"
      ],
      "metadata": {
        "colab": {
          "base_uri": "https://localhost:8080/"
        },
        "id": "PO8bY0qiajjn",
        "outputId": "c8d018e5-6afb-4f3a-ccae-d7109cb0ad2e"
      },
      "execution_count": 23,
      "outputs": [
        {
          "output_type": "stream",
          "name": "stdout",
          "text": [
            "+----------+------------+--------------+--------------------+-----------------+-----------------+--------------------------+------------------+---------+------------+-------------+------------+-------------------+--------------+----------------------------+------------------------------------+------------------+----------------------+--------------+\n",
            "|Booking_ID|no_of_adults|no_of_children|no_of_weekend_nights|no_of_week_nights|type_of_meal_plan|required_car_parking_space|room_type_reserved|lead_time|arrival_year|arrival_month|arrival_date|market_segment_type|repeated_guest|no_of_previous_cancellations|no_of_previous_bookings_not_canceled|avg_price_per_room|no_of_special_requests|booking_status|\n",
            "+----------+------------+--------------+--------------------+-----------------+-----------------+--------------------------+------------------+---------+------------+-------------+------------+-------------------+--------------+----------------------------+------------------------------------+------------------+----------------------+--------------+\n",
            "|         0|           0|             0|                   0|                0|                0|                         0|                 0|        0|           0|            0|           0|                  0|             0|                           0|                                   0|                 0|                     0|             0|\n",
            "+----------+------------+--------------+--------------------+-----------------+-----------------+--------------------------+------------------+---------+------------+-------------+------------+-------------------+--------------+----------------------------+------------------------------------+------------------+----------------------+--------------+\n",
            "\n"
          ]
        }
      ]
    },
    {
      "cell_type": "markdown",
      "source": [
        "### Feature Scaling/Normalization <a name=\"feature-scalingnormalization\"></a>"
      ],
      "metadata": {
        "id": "JGhSNkncaf9w"
      }
    },
    {
      "cell_type": "markdown",
      "source": [
        "In this step, we'll normalize the features so that they are on the same scale. This is particularly important for deep learning models, as it can help the model converge faster and can also help avoid local minima. Here, we'll use the MinMaxScaler from the pyspark.ml.feature module to scale the features between 0 and 1."
      ],
      "metadata": {
        "id": "umeeLkk1a4TP"
      }
    },
    {
      "cell_type": "code",
      "source": [
        "from pyspark.ml.feature import MinMaxScaler\n",
        "from pyspark.ml.feature import VectorAssembler"
      ],
      "metadata": {
        "id": "-E8MV4tJa5iq"
      },
      "execution_count": 24,
      "outputs": []
    },
    {
      "cell_type": "code",
      "source": [
        "# Define the columns you want to scale\n",
        "input_cols = ['no_of_adults', 'no_of_children', 'no_of_weekend_nights', 'no_of_week_nights',\n",
        "              'required_car_parking_space', 'lead_time', 'arrival_year', 'arrival_month',\n",
        "              'arrival_date', 'repeated_guest', 'no_of_previous_cancellations',\n",
        "              'no_of_previous_bookings_not_canceled', 'avg_price_per_room', 'no_of_special_requests']"
      ],
      "metadata": {
        "id": "1HOdJky0a93I"
      },
      "execution_count": 25,
      "outputs": []
    },
    {
      "cell_type": "code",
      "source": [
        "# Drop the existing 'features' column if it already exists\n",
        "if 'features' in df.columns:\n",
        "    df = df.drop('features')\n",
        "\n",
        "# Initialize the VectorAssembler\n",
        "assembler = VectorAssembler(inputCols=input_cols, outputCol=\"features\")\n",
        "\n",
        "# Transform the DataFrame\n",
        "df = assembler.transform(df)"
      ],
      "metadata": {
        "id": "6shjtc-jbRGY"
      },
      "execution_count": 26,
      "outputs": []
    },
    {
      "cell_type": "code",
      "source": [
        "# Initialize the `MinMaxScaler`\n",
        "scaler = MinMaxScaler(inputCol=\"features\", outputCol=\"scaled_features\")\n",
        "\n",
        "# Now you can fit your scaler\n",
        "scalerModel = scaler.fit(df)\n",
        "\n",
        "# And transform the DataFrame\n",
        "scaled_df = scalerModel.transform(df)"
      ],
      "metadata": {
        "id": "-tQp-YYEbTm6"
      },
      "execution_count": 27,
      "outputs": []
    },
    {
      "cell_type": "code",
      "source": [
        "scaled_df.show(5)"
      ],
      "metadata": {
        "colab": {
          "base_uri": "https://localhost:8080/"
        },
        "id": "_TXNuwY5bqBo",
        "outputId": "1274c2c9-0f37-49d6-e5ef-a2c82ecfb893"
      },
      "execution_count": 28,
      "outputs": [
        {
          "output_type": "stream",
          "name": "stdout",
          "text": [
            "+----------+------------+--------------+--------------------+-----------------+-----------------+--------------------------+------------------+---------+------------+-------------+------------+-------------------+--------------+----------------------------+------------------------------------+------------------+----------------------+--------------+--------------------+--------------------+\n",
            "|Booking_ID|no_of_adults|no_of_children|no_of_weekend_nights|no_of_week_nights|type_of_meal_plan|required_car_parking_space|room_type_reserved|lead_time|arrival_year|arrival_month|arrival_date|market_segment_type|repeated_guest|no_of_previous_cancellations|no_of_previous_bookings_not_canceled|avg_price_per_room|no_of_special_requests|booking_status|            features|     scaled_features|\n",
            "+----------+------------+--------------+--------------------+-----------------+-----------------+--------------------------+------------------+---------+------------+-------------+------------+-------------------+--------------+----------------------------+------------------------------------+------------------+----------------------+--------------+--------------------+--------------------+\n",
            "|  INN00001|           2|             0|                   1|                2|      Meal Plan 1|                         0|       Room_Type 1|      224|        2017|           10|           2|            Offline|             0|                           0|                                   0|              65.0|                     0|  Not_Canceled|(14,[0,2,3,5,6,7,...|(14,[0,2,3,5,7,8,...|\n",
            "|  INN00002|           2|             0|                   2|                3|     Not Selected|                         0|       Room_Type 1|        5|        2018|           11|           6|             Online|             0|                           0|                                   0|            106.68|                     1|  Not_Canceled|[2.0,0.0,2.0,3.0,...|[0.5,0.0,0.285714...|\n",
            "|  INN00003|           1|             0|                   2|                1|      Meal Plan 1|                         0|       Room_Type 1|        1|        2018|            2|          28|             Online|             0|                           0|                                   0|              60.0|                     0|      Canceled|(14,[0,2,3,5,6,7,...|(14,[0,2,3,5,6,7,...|\n",
            "|  INN00004|           2|             0|                   0|                2|      Meal Plan 1|                         0|       Room_Type 1|      211|        2018|            5|          20|             Online|             0|                           0|                                   0|             100.0|                     0|      Canceled|(14,[0,3,5,6,7,8,...|(14,[0,3,5,6,7,8,...|\n",
            "|  INN00005|           2|             0|                   1|                1|     Not Selected|                         0|       Room_Type 1|       48|        2018|            4|          11|             Online|             0|                           0|                                   0|              94.5|                     0|      Canceled|(14,[0,2,3,5,6,7,...|(14,[0,2,3,5,6,7,...|\n",
            "+----------+------------+--------------+--------------------+-----------------+-----------------+--------------------------+------------------+---------+------------+-------------+------------+-------------------+--------------+----------------------------+------------------------------------+------------------+----------------------+--------------+--------------------+--------------------+\n",
            "only showing top 5 rows\n",
            "\n"
          ]
        }
      ]
    },
    {
      "cell_type": "markdown",
      "source": [
        "## Feature Engineering <a name=\"feature-engineering\"></a>"
      ],
      "metadata": {
        "id": "q_mBcSsecX1R"
      }
    },
    {
      "cell_type": "markdown",
      "source": [
        "Feature engineering involves preparing the proper input dataset, compatible with the machine learning algorithm requirements. This involves creating new features from existing ones which can add more value to our model."
      ],
      "metadata": {
        "id": "v9HJ5CnGcZ75"
      }
    },
    {
      "cell_type": "code",
      "source": [
        "from pyspark.ml.feature import OneHotEncoder, StandardScaler\n",
        "from pyspark.sql.functions import col"
      ],
      "metadata": {
        "id": "vyoM6hGinh66"
      },
      "execution_count": 29,
      "outputs": []
    },
    {
      "cell_type": "markdown",
      "source": [
        "### Feature Selection <a name=\"feature-selection\"></a>"
      ],
      "metadata": {
        "id": "a7FUJscKccfL"
      }
    },
    {
      "cell_type": "markdown",
      "source": [
        "Not all features are equally important. Some features do not contribute much and can be dropped, while others may need to be transformed or engineered.\n",
        "\n",
        "In this step, we will only take the numerical columns. However, in a real-world scenario, categorical columns can be encoded and used as features too."
      ],
      "metadata": {
        "id": "i0wbfbARci5z"
      }
    },
    {
      "cell_type": "code",
      "source": [
        "df.printSchema()"
      ],
      "metadata": {
        "colab": {
          "base_uri": "https://localhost:8080/"
        },
        "id": "cbp6bJKkol_s",
        "outputId": "dc5ec205-f9a3-452f-9aef-5f73f9ed5db8"
      },
      "execution_count": 30,
      "outputs": [
        {
          "output_type": "stream",
          "name": "stdout",
          "text": [
            "root\n",
            " |-- Booking_ID: string (nullable = true)\n",
            " |-- no_of_adults: integer (nullable = true)\n",
            " |-- no_of_children: integer (nullable = true)\n",
            " |-- no_of_weekend_nights: integer (nullable = true)\n",
            " |-- no_of_week_nights: integer (nullable = true)\n",
            " |-- type_of_meal_plan: string (nullable = false)\n",
            " |-- required_car_parking_space: integer (nullable = true)\n",
            " |-- room_type_reserved: string (nullable = false)\n",
            " |-- lead_time: integer (nullable = true)\n",
            " |-- arrival_year: integer (nullable = true)\n",
            " |-- arrival_month: integer (nullable = true)\n",
            " |-- arrival_date: integer (nullable = true)\n",
            " |-- market_segment_type: string (nullable = true)\n",
            " |-- repeated_guest: integer (nullable = true)\n",
            " |-- no_of_previous_cancellations: integer (nullable = true)\n",
            " |-- no_of_previous_bookings_not_canceled: integer (nullable = true)\n",
            " |-- avg_price_per_room: double (nullable = false)\n",
            " |-- no_of_special_requests: integer (nullable = true)\n",
            " |-- booking_status: string (nullable = false)\n",
            " |-- features: vector (nullable = true)\n",
            "\n"
          ]
        }
      ]
    },
    {
      "cell_type": "code",
      "source": [
        "# Feature Selection\n",
        "selected_columns = ['type_of_meal_plan', 'room_type_reserved', 'booking_status',\n",
        "                    'no_of_adults', 'no_of_children', 'no_of_weekend_nights', 'no_of_week_nights',\n",
        "                    'required_car_parking_space', 'lead_time', 'arrival_year', 'arrival_month',\n",
        "                    'arrival_date', 'repeated_guest', 'no_of_previous_cancellations',\n",
        "                    'no_of_previous_bookings_not_canceled', 'avg_price_per_room', 'no_of_special_requests',\n",
        "                    'class']"
      ],
      "metadata": {
        "id": "eT7meoymclV1"
      },
      "execution_count": 31,
      "outputs": []
    },
    {
      "cell_type": "code",
      "source": [
        "df.show(5)"
      ],
      "metadata": {
        "colab": {
          "base_uri": "https://localhost:8080/"
        },
        "id": "guBoYxdfcnBJ",
        "outputId": "e4470246-b620-47d5-cebb-a02b0f9d6559"
      },
      "execution_count": 32,
      "outputs": [
        {
          "output_type": "stream",
          "name": "stdout",
          "text": [
            "+----------+------------+--------------+--------------------+-----------------+-----------------+--------------------------+------------------+---------+------------+-------------+------------+-------------------+--------------+----------------------------+------------------------------------+------------------+----------------------+--------------+--------------------+\n",
            "|Booking_ID|no_of_adults|no_of_children|no_of_weekend_nights|no_of_week_nights|type_of_meal_plan|required_car_parking_space|room_type_reserved|lead_time|arrival_year|arrival_month|arrival_date|market_segment_type|repeated_guest|no_of_previous_cancellations|no_of_previous_bookings_not_canceled|avg_price_per_room|no_of_special_requests|booking_status|            features|\n",
            "+----------+------------+--------------+--------------------+-----------------+-----------------+--------------------------+------------------+---------+------------+-------------+------------+-------------------+--------------+----------------------------+------------------------------------+------------------+----------------------+--------------+--------------------+\n",
            "|  INN00001|           2|             0|                   1|                2|      Meal Plan 1|                         0|       Room_Type 1|      224|        2017|           10|           2|            Offline|             0|                           0|                                   0|              65.0|                     0|  Not_Canceled|(14,[0,2,3,5,6,7,...|\n",
            "|  INN00002|           2|             0|                   2|                3|     Not Selected|                         0|       Room_Type 1|        5|        2018|           11|           6|             Online|             0|                           0|                                   0|            106.68|                     1|  Not_Canceled|[2.0,0.0,2.0,3.0,...|\n",
            "|  INN00003|           1|             0|                   2|                1|      Meal Plan 1|                         0|       Room_Type 1|        1|        2018|            2|          28|             Online|             0|                           0|                                   0|              60.0|                     0|      Canceled|(14,[0,2,3,5,6,7,...|\n",
            "|  INN00004|           2|             0|                   0|                2|      Meal Plan 1|                         0|       Room_Type 1|      211|        2018|            5|          20|             Online|             0|                           0|                                   0|             100.0|                     0|      Canceled|(14,[0,3,5,6,7,8,...|\n",
            "|  INN00005|           2|             0|                   1|                1|     Not Selected|                         0|       Room_Type 1|       48|        2018|            4|          11|             Online|             0|                           0|                                   0|              94.5|                     0|      Canceled|(14,[0,2,3,5,6,7,...|\n",
            "+----------+------------+--------------+--------------------+-----------------+-----------------+--------------------------+------------------+---------+------------+-------------+------------+-------------------+--------------+----------------------------+------------------------------------+------------------+----------------------+--------------+--------------------+\n",
            "only showing top 5 rows\n",
            "\n"
          ]
        }
      ]
    },
    {
      "cell_type": "markdown",
      "source": [
        "### Feature Preparation <a name=\"feature-preparation\"></a>"
      ],
      "metadata": {
        "id": "j6gOjU32crcl"
      }
    },
    {
      "cell_type": "markdown",
      "source": [
        "Since we have some categorical columns and our deep learning model expects input as numerical data, we need to convert these categorical columns to numerical ones. We can use a technique called one-hot encoding.\n",
        "\n",
        "Also, we need to assemble all our features into a single column. We can do that using VectorAssembler from PySpark."
      ],
      "metadata": {
        "id": "QL0V3hXEcuW3"
      }
    },
    {
      "cell_type": "code",
      "source": [
        "from pyspark.ml.feature import OneHotEncoder, StringIndexer, VectorAssembler\n",
        "from pyspark.ml import Pipeline\n",
        "from pyspark.sql.functions import col"
      ],
      "metadata": {
        "id": "0XOH7KI4cwM1"
      },
      "execution_count": 33,
      "outputs": []
    },
    {
      "cell_type": "code",
      "source": [
        "# Convert the columns to string type if they are not already\n",
        "df = df.withColumn('type_of_meal_plan', col('type_of_meal_plan').cast('string'))\n",
        "df = df.withColumn('room_type_reserved', col('room_type_reserved').cast('string'))"
      ],
      "metadata": {
        "id": "AVqHhjRjuaHk"
      },
      "execution_count": 154,
      "outputs": []
    },
    {
      "cell_type": "code",
      "source": [
        "# Apply StringIndexer to multiple columns in a PySpark DataFrame\n",
        "indexers = [StringIndexer(inputCol=c, outputCol=\"{0}_indexed\".format(c)) for c in categorical_columns]\n",
        "\n",
        "# Apply OneHotEncoder to multiple columns in a PySpark DataFrame\n",
        "encoders = [OneHotEncoder(inputCol=indexer.getOutputCol(),\n",
        "                          outputCol=\"{0}_encoded\".format(indexer.getOutputCol()))\n",
        "            for indexer in indexers]"
      ],
      "metadata": {
        "id": "W6-STEVkcyA-"
      },
      "execution_count": 35,
      "outputs": []
    },
    {
      "cell_type": "code",
      "source": [
        "feature_cols = ['no_of_adults', 'no_of_children', 'no_of_weekend_nights', 'no_of_week_nights',\n",
        "                'required_car_parking_space', 'lead_time', 'arrival_year', 'arrival_month',\n",
        "                'arrival_date', 'repeated_guest', 'no_of_previous_cancellations',\n",
        "                'no_of_previous_bookings_not_canceled', 'avg_price_per_room', 'no_of_special_requests']"
      ],
      "metadata": {
        "id": "5ZY1cRXDwYR1"
      },
      "execution_count": 37,
      "outputs": []
    },
    {
      "cell_type": "code",
      "source": [
        "# Vector assembling\n",
        "assembler = VectorAssembler(\n",
        "    inputCols=[encoder.getOutputCol() for encoder in encoders] + feature_cols,\n",
        "    outputCol=\"features\"\n",
        ")"
      ],
      "metadata": {
        "id": "rLfdbF1wc4o8"
      },
      "execution_count": 152,
      "outputs": []
    },
    {
      "cell_type": "code",
      "source": [
        "df = df.drop(\"features\", \"type_of_meal_plan_index\", \"room_type_reserved_index\", \"booking_status_index\", \"type_of_meal_plan_indexed_encoded\", \"room_type_reserved_indexed_encoded\", \"booking_status_indexed_encoded\")\n",
        "pipeline = Pipeline(stages=indexers + encoders + [assembler])\n",
        "df = pipeline.fit(df).transform(df)"
      ],
      "metadata": {
        "id": "EamIkSeUc6rT"
      },
      "execution_count": 162,
      "outputs": []
    },
    {
      "cell_type": "code",
      "source": [
        "df.show(5)"
      ],
      "metadata": {
        "colab": {
          "base_uri": "https://localhost:8080/"
        },
        "id": "dawR7bjhxG8Z",
        "outputId": "14dece4b-bfca-40bb-a249-0fb9b6f4bdd7"
      },
      "execution_count": 227,
      "outputs": [
        {
          "output_type": "stream",
          "name": "stdout",
          "text": [
            "+----------+------------+--------------+--------------------+-----------------+-----------------+--------------------------+------------------+---------+------------+-------------+------------+-------------------+--------------+----------------------------+------------------------------------+------------------+----------------------+--------------+\n",
            "|Booking_ID|no_of_adults|no_of_children|no_of_weekend_nights|no_of_week_nights|type_of_meal_plan|required_car_parking_space|room_type_reserved|lead_time|arrival_year|arrival_month|arrival_date|market_segment_type|repeated_guest|no_of_previous_cancellations|no_of_previous_bookings_not_canceled|avg_price_per_room|no_of_special_requests|booking_status|\n",
            "+----------+------------+--------------+--------------------+-----------------+-----------------+--------------------------+------------------+---------+------------+-------------+------------+-------------------+--------------+----------------------------+------------------------------------+------------------+----------------------+--------------+\n",
            "|  INN00001|           2|             0|                   1|                2|      Meal Plan 1|                         0|       Room_Type 1|      224|        2017|           10|           2|            Offline|             0|                           0|                                   0|              65.0|                     0|  Not_Canceled|\n",
            "|  INN00002|           2|             0|                   2|                3|     Not Selected|                         0|       Room_Type 1|        5|        2018|           11|           6|             Online|             0|                           0|                                   0|            106.68|                     1|  Not_Canceled|\n",
            "|  INN00003|           1|             0|                   2|                1|      Meal Plan 1|                         0|       Room_Type 1|        1|        2018|            2|          28|             Online|             0|                           0|                                   0|              60.0|                     0|      Canceled|\n",
            "|  INN00004|           2|             0|                   0|                2|      Meal Plan 1|                         0|       Room_Type 1|      211|        2018|            5|          20|             Online|             0|                           0|                                   0|             100.0|                     0|      Canceled|\n",
            "|  INN00005|           2|             0|                   1|                1|     Not Selected|                         0|       Room_Type 1|       48|        2018|            4|          11|             Online|             0|                           0|                                   0|              94.5|                     0|      Canceled|\n",
            "+----------+------------+--------------+--------------------+-----------------+-----------------+--------------------------+------------------+---------+------------+-------------+------------+-------------------+--------------+----------------------------+------------------------------------+------------------+----------------------+--------------+\n",
            "only showing top 5 rows\n",
            "\n"
          ]
        }
      ]
    },
    {
      "cell_type": "markdown",
      "source": [
        "## Model Building <a name=\"model-building\"></a>"
      ],
      "metadata": {
        "id": "7XIfPmb9z4lF"
      }
    },
    {
      "cell_type": "markdown",
      "source": [
        "After we have prepared the data, we can now proceed to build our deep learning model using BigDL DLlib. In this step, we will define the architecture of the model, compile it, and then train it with our prepared data."
      ],
      "metadata": {
        "id": "Oe7VCoqsz66h"
      }
    },
    {
      "cell_type": "markdown",
      "source": [
        "### Deep Learning Model Creation using BigDL DLlib <a name=\"deep-learning-model-creation-using-bigdl-dllib\"></a>"
      ],
      "metadata": {
        "id": "3JC1prQGz8d7"
      }
    },
    {
      "cell_type": "markdown",
      "source": [
        "We'll use DLlib's Keras-style API to define our model. For this tutorial, we'll use a simple feed-forward neural network with several dense layers. Let's get started."
      ],
      "metadata": {
        "id": "8yLVMYNR8Cfh"
      }
    },
    {
      "cell_type": "code",
      "source": [
        "# Import the necessary libraries\n",
        "from bigdl.dllib.keras.models import Sequential\n",
        "from bigdl.dllib.keras.layers import Dense\n",
        "from bigdl.dllib.keras.optimizers import Adam\n",
        "from bigdl.dllib.nnframes import NNClassifier\n",
        "from bigdl.dllib.nn.criterion import CrossEntropyCriterion\n",
        "from pyspark.ml.feature import VectorAssembler\n",
        "from pyspark.sql.functions import lit"
      ],
      "metadata": {
        "id": "0fxMOIwR0GQn"
      },
      "execution_count": 125,
      "outputs": []
    },
    {
      "cell_type": "code",
      "source": [
        "# Initialize NNContext and create Spark session\n",
        "sc = init_nncontext(cluster_mode=\"local\") # run in local mode\n",
        "spark = SparkSession(sc)"
      ],
      "metadata": {
        "colab": {
          "base_uri": "https://localhost:8080/"
        },
        "id": "A_VMvij61Cwn",
        "outputId": "b0b776b0-4649-4037-8d97-504005367c63"
      },
      "execution_count": 49,
      "outputs": [
        {
          "output_type": "stream",
          "name": "stdout",
          "text": [
            "WARNING: Note that there's an existing SparkContext. Using the existing SparkContext.\n",
            "Current pyspark location is : /usr/local/lib/python3.10/dist-packages/pyspark/__init__.py\n",
            "Start to getOrCreate SparkContext\n",
            "pyspark_submit_args is:  --driver-class-path /usr/local/lib/python3.10/dist-packages/bigdl/share/dllib/lib/bigdl-dllib-spark_3.1.3-2.4.0-SNAPSHOT-jar-with-dependencies.jar:/usr/local/lib/python3.10/dist-packages/bigdl/share/core/lib/all-2.4.0-20230420.050641-1.jar --driver-class-path /usr/local/lib/python3.10/dist-packages/bigdl/share/dllib/lib/bigdl-dllib-spark_3.1.3-2.4.0-SNAPSHOT-jar-with-dependencies.jar:/usr/local/lib/python3.10/dist-packages/bigdl/share/core/lib/all-2.4.0-20230420.050641-1.jar pyspark-shell \n",
            "Successfully got a SparkContext\n"
          ]
        }
      ]
    },
    {
      "cell_type": "code",
      "source": [
        "# Define the model architecture\n",
        "model = Sequential()\n",
        "model.add(Dense(64, input_shape=(len(df.columns),), activation='relu'))  # Input layer\n",
        "model.add(Dense(32, activation='relu'))  # Hidden layer\n",
        "model.add(Dense(2, activation='softmax'))  # Output layer"
      ],
      "metadata": {
        "colab": {
          "base_uri": "https://localhost:8080/"
        },
        "id": "Aa51QQ6x1FCS",
        "outputId": "09ed9eef-62a1-44ff-ffac-de4c472f0203"
      },
      "execution_count": 60,
      "outputs": [
        {
          "output_type": "stream",
          "name": "stdout",
          "text": [
            "creating: createZooKerasSequential\n",
            "creating: createZooKerasDense\n",
            "creating: createZooKerasDense\n",
            "creating: createZooKerasDense\n"
          ]
        },
        {
          "output_type": "execute_result",
          "data": {
            "text/plain": [
              "<bigdl.dllib.keras.models.Sequential at 0x7fc2b02e4430>"
            ]
          },
          "metadata": {},
          "execution_count": 60
        }
      ]
    },
    {
      "cell_type": "code",
      "source": [
        "# Compile the model\n",
        "classifier = NNClassifier(model, CrossEntropyCriterion(), [len(df.columns)])\\\n",
        "    .setOptimMethod(Adam())\\\n",
        "    .setBatchSize(128)\\\n",
        "    .setMaxEpoch(100)\\\n",
        "    .setFeaturesCol(\"features\")\\\n",
        "    .setLabelCol(\"class\")\n",
        "\n",
        "# Split the data into training and validation sets (30% held out for validation)\n",
        "(trainingDF, validationDF) = df.randomSplit([0.7, 0.3])"
      ],
      "metadata": {
        "colab": {
          "base_uri": "https://localhost:8080/"
        },
        "id": "_Vbj8hTh1G2y",
        "outputId": "17e9e8ea-6d18-43bd-ceb7-7c12f2bf71cf"
      },
      "execution_count": 65,
      "outputs": [
        {
          "output_type": "stream",
          "name": "stdout",
          "text": [
            "creating: createCrossEntropyCriterion\n",
            "creating: createScalarToTensor\n",
            "creating: createSeqToTensor\n",
            "creating: createFeatureLabelPreprocessing\n",
            "creating: createNNClassifier\n",
            "creating: createZooKerasAdam\n",
            "creating: createDefault\n"
          ]
        }
      ]
    },
    {
      "cell_type": "code",
      "source": [
        "# Add a new label column by casting the existing \"class\" column to DoubleType and incrementing by 1\n",
        "changedTypedf = train_df.withColumn(\"label\", train_df[\"booking_status_index\"].cast(\"double\") + lit(1))"
      ],
      "metadata": {
        "id": "WHu81yRCeLy0"
      },
      "execution_count": 133,
      "outputs": []
    },
    {
      "cell_type": "code",
      "source": [
        "# Select only the \"features\" and \"label\" columns for trainingDF\n",
        "trainingDF = changedTypedf.select(\"features\", \"label\")"
      ],
      "metadata": {
        "id": "nGyjSe4PfduH"
      },
      "execution_count": 134,
      "outputs": []
    },
    {
      "cell_type": "code",
      "source": [
        "trainingDF.show(5)"
      ],
      "metadata": {
        "colab": {
          "base_uri": "https://localhost:8080/"
        },
        "id": "xM7ohAQJEvHy",
        "outputId": "61607a6e-ba68-4df9-e26c-20f289692e26"
      },
      "execution_count": 164,
      "outputs": [
        {
          "output_type": "stream",
          "name": "stdout",
          "text": [
            "+--------------------+-----+\n",
            "|            features|label|\n",
            "+--------------------+-----+\n",
            "|(14,[0,2,3,5,6,7,...|  1.0|\n",
            "|[2.0,0.0,2.0,3.0,...|  1.0|\n",
            "|(14,[0,2,3,5,6,7,...|  2.0|\n",
            "|(14,[0,3,5,6,7,8,...|  2.0|\n",
            "|(14,[0,2,3,5,6,7,...|  2.0|\n",
            "+--------------------+-----+\n",
            "only showing top 5 rows\n",
            "\n"
          ]
        }
      ]
    },
    {
      "cell_type": "code",
      "source": [
        "df.show(5)"
      ],
      "metadata": {
        "colab": {
          "base_uri": "https://localhost:8080/"
        },
        "id": "XroMqf_kE0u2",
        "outputId": "72890b18-9c86-4012-b2f1-27c3d5af234a"
      },
      "execution_count": 136,
      "outputs": [
        {
          "output_type": "stream",
          "name": "stdout",
          "text": [
            "+----------+------------+--------------+--------------------+-----------------+-----------------+--------------------------+------------------+---------+------------+-------------+------------+-------------------+--------------+----------------------------+------------------------------------+------------------+----------------------+--------------+-------------------------+--------------------------+----------------------+---------------------------------+----------------------------------+------------------------------+-----------------------+------------------------+--------------------+-------------------------+----------------+---------------------+----------------------+------------------+-----------------------+-----------------+--------------------+\n",
            "|Booking_ID|no_of_adults|no_of_children|no_of_weekend_nights|no_of_week_nights|type_of_meal_plan|required_car_parking_space|room_type_reserved|lead_time|arrival_year|arrival_month|arrival_date|market_segment_type|repeated_guest|no_of_previous_cancellations|no_of_previous_bookings_not_canceled|avg_price_per_room|no_of_special_requests|booking_status|type_of_meal_plan_indexed|room_type_reserved_indexed|booking_status_indexed|type_of_meal_plan_indexed_encoded|room_type_reserved_indexed_encoded|booking_status_indexed_encoded|type_of_meal_plan_index|room_type_reserved_index|booking_status_index|market_segment_type_index|Booking_ID_index|type_of_meal_plan_vec|room_type_reserved_vec|booking_status_vec|market_segment_type_vec|   Booking_ID_vec|        new_features|\n",
            "+----------+------------+--------------+--------------------+-----------------+-----------------+--------------------------+------------------+---------+------------+-------------+------------+-------------------+--------------+----------------------------+------------------------------------+------------------+----------------------+--------------+-------------------------+--------------------------+----------------------+---------------------------------+----------------------------------+------------------------------+-----------------------+------------------------+--------------------+-------------------------+----------------+---------------------+----------------------+------------------+-----------------------+-----------------+--------------------+\n",
            "|  INN00001|           2|             0|                   1|                2|      Meal Plan 1|                         0|       Room_Type 1|      224|        2017|           10|           2|            Offline|             0|                           0|                                   0|              65.0|                     0|  Not_Canceled|                      0.0|                       0.0|                   0.0|                    (3,[0],[1.0])|                     (6,[0],[1.0])|                 (1,[0],[1.0])|                    0.0|                     0.0|                 0.0|                      1.0|             0.0|        (3,[0],[1.0])|         (6,[0],[1.0])|     (1,[0],[1.0])|          (4,[1],[1.0])|(36274,[0],[1.0])|(36339,[0,2,3,5,6...|\n",
            "|  INN00002|           2|             0|                   2|                3|     Not Selected|                         0|       Room_Type 1|        5|        2018|           11|           6|             Online|             0|                           0|                                   0|            106.68|                     1|  Not_Canceled|                      1.0|                       0.0|                   0.0|                    (3,[1],[1.0])|                     (6,[0],[1.0])|                 (1,[0],[1.0])|                    1.0|                     0.0|                 0.0|                      0.0|             1.0|        (3,[1],[1.0])|         (6,[0],[1.0])|     (1,[0],[1.0])|          (4,[0],[1.0])|(36274,[1],[1.0])|(36339,[0,2,3,5,6...|\n",
            "|  INN00003|           1|             0|                   2|                1|      Meal Plan 1|                         0|       Room_Type 1|        1|        2018|            2|          28|             Online|             0|                           0|                                   0|              60.0|                     0|      Canceled|                      0.0|                       0.0|                   1.0|                    (3,[0],[1.0])|                     (6,[0],[1.0])|                     (1,[],[])|                    0.0|                     0.0|                 1.0|                      0.0|             2.0|        (3,[0],[1.0])|         (6,[0],[1.0])|         (1,[],[])|          (4,[0],[1.0])|(36274,[2],[1.0])|(36339,[0,2,3,5,6...|\n",
            "|  INN00004|           2|             0|                   0|                2|      Meal Plan 1|                         0|       Room_Type 1|      211|        2018|            5|          20|             Online|             0|                           0|                                   0|             100.0|                     0|      Canceled|                      0.0|                       0.0|                   1.0|                    (3,[0],[1.0])|                     (6,[0],[1.0])|                     (1,[],[])|                    0.0|                     0.0|                 1.0|                      0.0|             3.0|        (3,[0],[1.0])|         (6,[0],[1.0])|         (1,[],[])|          (4,[0],[1.0])|(36274,[3],[1.0])|(36339,[0,3,5,6,7...|\n",
            "|  INN00005|           2|             0|                   1|                1|     Not Selected|                         0|       Room_Type 1|       48|        2018|            4|          11|             Online|             0|                           0|                                   0|              94.5|                     0|      Canceled|                      1.0|                       0.0|                   1.0|                    (3,[1],[1.0])|                     (6,[0],[1.0])|                     (1,[],[])|                    1.0|                     0.0|                 1.0|                      0.0|             4.0|        (3,[1],[1.0])|         (6,[0],[1.0])|         (1,[],[])|          (4,[0],[1.0])|(36274,[4],[1.0])|(36339,[0,2,3,5,6...|\n",
            "+----------+------------+--------------+--------------------+-----------------+-----------------+--------------------------+------------------+---------+------------+-------------+------------+-------------------+--------------+----------------------------+------------------------------------+------------------+----------------------+--------------+-------------------------+--------------------------+----------------------+---------------------------------+----------------------------------+------------------------------+-----------------------+------------------------+--------------------+-------------------------+----------------+---------------------+----------------------+------------------+-----------------------+-----------------+--------------------+\n",
            "only showing top 5 rows\n",
            "\n"
          ]
        }
      ]
    },
    {
      "cell_type": "markdown",
      "source": [
        "#### Preprocessing added Revision"
      ],
      "metadata": {
        "id": "JphbmjhzFVdh"
      }
    },
    {
      "cell_type": "code",
      "source": [
        "# Define the model architecture\n",
        "model = Sequential()\n",
        "model.add(Dense(64, input_shape=(len(trainingDF.columns)-1,), activation='relu')) # Input layer\n",
        "model.add(Dense(32, activation='relu'))  # Hidden layer\n",
        "model.add(Dense(2, activation='softmax'))  # Output layer"
      ],
      "metadata": {
        "colab": {
          "base_uri": "https://localhost:8080/"
        },
        "id": "LEGylK9TgS-B",
        "outputId": "0ba1cc0b-9b34-40fb-ac4b-df3a5f17f9b0"
      },
      "execution_count": 142,
      "outputs": [
        {
          "output_type": "stream",
          "name": "stdout",
          "text": [
            "creating: createZooKerasSequential\n",
            "creating: createZooKerasDense\n",
            "creating: createZooKerasDense\n",
            "creating: createZooKerasDense\n"
          ]
        },
        {
          "output_type": "execute_result",
          "data": {
            "text/plain": [
              "<bigdl.dllib.keras.models.Sequential at 0x7fc2371f73a0>"
            ]
          },
          "metadata": {},
          "execution_count": 142
        }
      ]
    },
    {
      "cell_type": "code",
      "source": [
        "# Import necessary libraries\n",
        "from pyspark.ml.feature import StringIndexer, OneHotEncoder\n",
        "from pyspark.ml import Pipeline\n",
        "from pyspark.ml.classification import LogisticRegression\n",
        "from pyspark.ml.feature import HashingTF, Tokenizer"
      ],
      "metadata": {
        "id": "V-9aK27JFXmg"
      },
      "execution_count": 143,
      "outputs": []
    },
    {
      "cell_type": "code",
      "source": [
        "# Define the categorical columns\n",
        "categorical_columns = ['type_of_meal_plan', 'room_type_reserved', 'booking_status']\n",
        "\n",
        "# Drop the existing index columns if they already exist\n",
        "for column in categorical_columns:\n",
        "    index_col_name = column + \"_index\"\n",
        "    if index_col_name in df.columns:\n",
        "        df = df.drop(index_col_name)\n",
        "\n",
        "indexers = [StringIndexer(inputCol=column, outputCol=column+\"_index\").fit(df) for column in categorical_columns]\n",
        "\n",
        "encoder = OneHotEncoder(inputCols=[indexer.getOutputCol() for indexer in indexers], outputCols=[f\"{column}_vec\" for column in categorical_columns])"
      ],
      "metadata": {
        "id": "hRbbAZpRFaNm"
      },
      "execution_count": 144,
      "outputs": []
    },
    {
      "cell_type": "code",
      "source": [
        "# Drop the existing vector columns if they already exist\n",
        "for column in categorical_columns:\n",
        "    vec_col_name = column + \"_vec\"\n",
        "    if vec_col_name in df.columns:\n",
        "        df = df.drop(vec_col_name)\n",
        "\n",
        "stages = indexers + [encoder]\n",
        "pipeline = Pipeline(stages=stages)\n",
        "\n",
        "model = pipeline.fit(df)\n",
        "df = model.transform(df)\n"
      ],
      "metadata": {
        "id": "jYna2f6HFcia"
      },
      "execution_count": 145,
      "outputs": []
    },
    {
      "cell_type": "code",
      "source": [
        "print(len(trainingDF.columns))\n",
        "print(len(df.columns))"
      ],
      "metadata": {
        "colab": {
          "base_uri": "https://localhost:8080/"
        },
        "id": "8MxQWtf8GPEP",
        "outputId": "0e67dd11-589f-4cd1-a0b2-36e21868dd63"
      },
      "execution_count": 146,
      "outputs": [
        {
          "output_type": "stream",
          "name": "stdout",
          "text": [
            "2\n",
            "36\n"
          ]
        }
      ]
    },
    {
      "cell_type": "markdown",
      "source": [
        "#### FIXED"
      ],
      "metadata": {
        "id": "yQPFgZvGJ1aU"
      }
    },
    {
      "cell_type": "code",
      "source": [
        "# from pyspark.ml.feature import VectorAssembler, StringIndexer, OneHotEncoder\n",
        "\n",
        "# # Get all column names\n",
        "# all_columns = df.columns\n",
        "\n",
        "# # Remove the label column\n",
        "# input_columns = [x for x in all_columns if x != \"class\"]  # Replace \"class\" with your label column name\n",
        "\n",
        "# # Define the categorical columns\n",
        "# categorical_columns = ['type_of_meal_plan', 'room_type_reserved', 'booking_status', 'market_segment_type', 'Booking_ID']\n",
        "\n",
        "# # Initialize the StringIndexer and OneHotEncoder\n",
        "# indexers = [StringIndexer(inputCol=column, outputCol=column+\"_index\").fit(df) for column in categorical_columns]\n",
        "# encoder = OneHotEncoder(inputCols=[indexer.getOutputCol() for indexer in indexers],\n",
        "#                         outputCols=[f\"{column}_vec\" for column in categorical_columns])\n",
        "\n",
        "# assembler = VectorAssembler(\n",
        "#     inputCols=[col for col in input_columns if col not in categorical_columns] + [f\"{col}_vec\" for col in categorical_columns],\n",
        "#     outputCol=\"new_features\"  # Change the output column name\n",
        "# )\n",
        "\n",
        "# stages = indexers + [encoder] + [assembler]\n",
        "# pipeline = Pipeline(stages=stages)\n",
        "\n",
        "# # Check if the columns exist and drop them if they do\n",
        "# for vec_column in [f\"{col}_vec\" for col in categorical_columns]:\n",
        "#     if vec_column in df.columns:\n",
        "#         df = df.drop(vec_column)\n",
        "\n",
        "# model = pipeline.fit(df)\n",
        "# df = model.transform(df)\n"
      ],
      "metadata": {
        "id": "8tHt991dJ2yF"
      },
      "execution_count": 109,
      "outputs": []
    },
    {
      "cell_type": "markdown",
      "source": [
        "## Parameter Tuning <a name=\"parameter-tuning\"></a>"
      ],
      "metadata": {
        "id": "5s6MPWnBbN2u"
      }
    },
    {
      "cell_type": "markdown",
      "source": [
        "### Initial Model Training (FIXED VERSION FROM MODEL BUILDING)\n",
        "<a name=\"initial-model-training\n",
        "\"></a>"
      ],
      "metadata": {
        "id": "TOPVw3ckbP3S"
      }
    },
    {
      "cell_type": "code",
      "source": [
        "print(f\"Number of features: {len(trainingDF.columns)}\")"
      ],
      "metadata": {
        "colab": {
          "base_uri": "https://localhost:8080/"
        },
        "id": "yv7CZ9JVjs7C",
        "outputId": "73ed0ff5-1783-48f5-ddc6-58f6b5b28d0f"
      },
      "execution_count": 224,
      "outputs": [
        {
          "output_type": "stream",
          "name": "stdout",
          "text": [
            "Number of features: 2\n"
          ]
        }
      ]
    },
    {
      "cell_type": "code",
      "source": [
        "from bigdl.dllib.keras.models import Sequential\n",
        "from bigdl.dllib.keras.layers import Dense\n",
        "from bigdl.dllib.nnframes import NNClassifier\n",
        "from bigdl.dllib.keras.optimizers import Adam\n",
        "from bigdl.dllib.nn.criterion import CrossEntropyCriterion\n",
        "from pyspark.sql.functions import when\n",
        "\n",
        "# Define the model architecture\n",
        "model = Sequential()\n",
        "model.add(Dense(64, input_shape=(20,), activation='relu'))  # Input layer\n",
        "model.add(Dense(32, activation='relu'))  # Hidden layer\n",
        "model.add(Dense(2, activation='softmax'))  # Output layer\n",
        "\n",
        "# Compile the model\n",
        "classifier = NNClassifier(model, CrossEntropyCriterion())\\\n",
        "    .setOptimMethod(Adam())\\\n",
        "    .setBatchSize(128)\\\n",
        "    .setMaxEpoch(100)\\\n",
        "    .setFeaturesCol(\"features\")\\\n",
        "    .setLabelCol(\"booking_status\")\n",
        "\n",
        "\n",
        "# # Transform the label so that it starts from 1\n",
        "# df = df.withColumn(\"booking_status\", when(df[\"booking_status\"] == \"Not_Canceled\", 2).otherwise(1))"
      ],
      "metadata": {
        "colab": {
          "base_uri": "https://localhost:8080/"
        },
        "id": "GHKMrS_YjlAl",
        "outputId": "b14eecde-9f10-46d8-ed8b-f5496b5ab18e"
      },
      "execution_count": 270,
      "outputs": [
        {
          "output_type": "stream",
          "name": "stdout",
          "text": [
            "creating: createZooKerasSequential\n",
            "creating: createZooKerasDense\n",
            "creating: createZooKerasDense\n",
            "creating: createZooKerasDense\n",
            "creating: createCrossEntropyCriterion\n",
            "creating: createSeqToTensor\n",
            "creating: createScalarToTensor\n",
            "creating: createFeatureLabelPreprocessing\n",
            "creating: createNNClassifier\n",
            "creating: createZooKerasAdam\n",
            "creating: createDefault\n"
          ]
        }
      ]
    },
    {
      "cell_type": "code",
      "source": [
        "df.show(5)"
      ],
      "metadata": {
        "colab": {
          "base_uri": "https://localhost:8080/"
        },
        "id": "Tjq8Lh4Pkl1s",
        "outputId": "d9fec94d-cbe4-4b59-afa2-608f05643e1e"
      },
      "execution_count": 240,
      "outputs": [
        {
          "output_type": "stream",
          "name": "stdout",
          "text": [
            "+----------+------------+--------------+--------------------+-----------------+-----------------+--------------------------+------------------+---------+------------+-------------+------------+-------------------+--------------+----------------------------+------------------------------------+------------------+----------------------+--------------+\n",
            "|Booking_ID|no_of_adults|no_of_children|no_of_weekend_nights|no_of_week_nights|type_of_meal_plan|required_car_parking_space|room_type_reserved|lead_time|arrival_year|arrival_month|arrival_date|market_segment_type|repeated_guest|no_of_previous_cancellations|no_of_previous_bookings_not_canceled|avg_price_per_room|no_of_special_requests|booking_status|\n",
            "+----------+------------+--------------+--------------------+-----------------+-----------------+--------------------------+------------------+---------+------------+-------------+------------+-------------------+--------------+----------------------------+------------------------------------+------------------+----------------------+--------------+\n",
            "|  INN00001|           2|             0|                   1|                2|      Meal Plan 1|                         0|       Room_Type 1|      224|        2017|           10|           2|            Offline|             0|                           0|                                   0|              65.0|                     0|             2|\n",
            "|  INN00002|           2|             0|                   2|                3|     Not Selected|                         0|       Room_Type 1|        5|        2018|           11|           6|             Online|             0|                           0|                                   0|            106.68|                     1|             2|\n",
            "|  INN00003|           1|             0|                   2|                1|      Meal Plan 1|                         0|       Room_Type 1|        1|        2018|            2|          28|             Online|             0|                           0|                                   0|              60.0|                     0|             1|\n",
            "|  INN00004|           2|             0|                   0|                2|      Meal Plan 1|                         0|       Room_Type 1|      211|        2018|            5|          20|             Online|             0|                           0|                                   0|             100.0|                     0|             1|\n",
            "|  INN00005|           2|             0|                   1|                1|     Not Selected|                         0|       Room_Type 1|       48|        2018|            4|          11|             Online|             0|                           0|                                   0|              94.5|                     0|             1|\n",
            "+----------+------------+--------------+--------------------+-----------------+-----------------+--------------------------+------------------+---------+------------+-------------+------------+-------------------+--------------+----------------------------+------------------------------------+------------------+----------------------+--------------+\n",
            "only showing top 5 rows\n",
            "\n"
          ]
        }
      ]
    },
    {
      "cell_type": "code",
      "source": [
        "# from pyspark.ml.feature import VectorAssembler\n",
        "\n",
        "# # Define the columns that you want to include in the feature vector\n",
        "# feature_cols = ['no_of_adults', 'no_of_children', 'no_of_weekend_nights',\n",
        "#                 'no_of_week_nights', 'required_car_parking_space', 'lead_time',\n",
        "#                 'repeated_guest', 'no_of_previous_cancellations',\n",
        "#                 'no_of_previous_bookings_not_canceled', 'avg_price_per_room',\n",
        "#                 'no_of_special_requests', 'booking_status']\n",
        "\n",
        "# # Instantiate the assembler object\n",
        "# assembler = VectorAssembler(inputCols=feature_cols, outputCol=\"features\")\n",
        "\n",
        "# # Transform the data\n",
        "# df = assembler.transform(df)"
      ],
      "metadata": {
        "id": "-PJCMaMolB9M"
      },
      "execution_count": 241,
      "outputs": []
    },
    {
      "cell_type": "code",
      "source": [
        "from pyspark.sql.functions import col\n",
        "\n",
        "# Drop unnecessary columns\n",
        "# columns_to_drop = ['Booking_ID', 'Booking_ID_index', 'Booking_ID_vec', 'features_length']\n",
        "# df = df.drop(*columns_to_drop)\n",
        "\n",
        "# Fill null or NaN values, you might want to replace '0' with a more appropriate value\n",
        "df = df.na.fill(0)\n",
        "\n",
        "# Check for any null or NaN values in the DataFrame\n",
        "df.select([count(when(col(c).isNull(), c)).alias(c) for c in df.columns]).show()"
      ],
      "metadata": {
        "colab": {
          "base_uri": "https://localhost:8080/"
        },
        "id": "CtdrwsMOlZw8",
        "outputId": "a7801580-973b-4d4e-8abb-397a97951753"
      },
      "execution_count": 242,
      "outputs": [
        {
          "output_type": "stream",
          "name": "stdout",
          "text": [
            "+----------+------------+--------------+--------------------+-----------------+-----------------+--------------------------+------------------+---------+------------+-------------+------------+-------------------+--------------+----------------------------+------------------------------------+------------------+----------------------+--------------+--------+\n",
            "|Booking_ID|no_of_adults|no_of_children|no_of_weekend_nights|no_of_week_nights|type_of_meal_plan|required_car_parking_space|room_type_reserved|lead_time|arrival_year|arrival_month|arrival_date|market_segment_type|repeated_guest|no_of_previous_cancellations|no_of_previous_bookings_not_canceled|avg_price_per_room|no_of_special_requests|booking_status|features|\n",
            "+----------+------------+--------------+--------------------+-----------------+-----------------+--------------------------+------------------+---------+------------+-------------+------------+-------------------+--------------+----------------------------+------------------------------------+------------------+----------------------+--------------+--------+\n",
            "|         0|           0|             0|                   0|                0|                0|                         0|                 0|        0|           0|            0|           0|                  0|             0|                           0|                                   0|                 0|                     0|             0|       0|\n",
            "+----------+------------+--------------+--------------------+-----------------+-----------------+--------------------------+------------------+---------+------------+-------------+------------+-------------------+--------------+----------------------------+------------------------------------+------------------+----------------------+--------------+--------+\n",
            "\n"
          ]
        }
      ]
    },
    {
      "cell_type": "code",
      "source": [
        "print(df.dtypes)"
      ],
      "metadata": {
        "colab": {
          "base_uri": "https://localhost:8080/"
        },
        "id": "qo7OprGP0ekQ",
        "outputId": "cb7e01ee-553c-48df-8a8d-f10d0e085b06"
      },
      "execution_count": 244,
      "outputs": [
        {
          "output_type": "stream",
          "name": "stdout",
          "text": [
            "[('Booking_ID', 'string'), ('no_of_adults', 'int'), ('no_of_children', 'int'), ('no_of_weekend_nights', 'int'), ('no_of_week_nights', 'int'), ('type_of_meal_plan', 'string'), ('required_car_parking_space', 'int'), ('room_type_reserved', 'string'), ('lead_time', 'int'), ('arrival_year', 'int'), ('arrival_month', 'int'), ('arrival_date', 'int'), ('market_segment_type', 'string'), ('repeated_guest', 'int'), ('no_of_previous_cancellations', 'int'), ('no_of_previous_bookings_not_canceled', 'int'), ('avg_price_per_room', 'double'), ('no_of_special_requests', 'int'), ('booking_status', 'int'), ('features', 'vector')]\n"
          ]
        }
      ]
    },
    {
      "cell_type": "code",
      "source": [
        "from pyspark.sql.functions import col\n",
        "\n",
        "# Definisikan kolom yang ingin Anda ubah tipe datanya\n",
        "cols_to_convert = ['no_of_adults', 'no_of_children', 'no_of_weekend_nights',\n",
        "                   'no_of_week_nights', 'required_car_parking_space', 'lead_time',\n",
        "                   'repeated_guest', 'no_of_previous_cancellations',\n",
        "                   'no_of_previous_bookings_not_canceled', 'avg_price_per_room',\n",
        "                   'no_of_special_requests', 'booking_status']\n",
        "\n",
        "# Ubah tipe data kolom tersebut menjadi float\n",
        "for column in cols_to_convert:\n",
        "    df = df.withColumn(column, col(column).cast('float'))\n",
        "\n",
        "# Verifikasi perubahan tipe data\n",
        "print(df.dtypes)\n"
      ],
      "metadata": {
        "colab": {
          "base_uri": "https://localhost:8080/"
        },
        "id": "ua1dz2rH0zQv",
        "outputId": "d9447fc2-44fc-4b33-d09d-db243f8abbda"
      },
      "execution_count": 245,
      "outputs": [
        {
          "output_type": "stream",
          "name": "stdout",
          "text": [
            "[('Booking_ID', 'string'), ('no_of_adults', 'float'), ('no_of_children', 'float'), ('no_of_weekend_nights', 'float'), ('no_of_week_nights', 'float'), ('type_of_meal_plan', 'string'), ('required_car_parking_space', 'float'), ('room_type_reserved', 'string'), ('lead_time', 'float'), ('arrival_year', 'int'), ('arrival_month', 'int'), ('arrival_date', 'int'), ('market_segment_type', 'string'), ('repeated_guest', 'float'), ('no_of_previous_cancellations', 'float'), ('no_of_previous_bookings_not_canceled', 'float'), ('avg_price_per_room', 'float'), ('no_of_special_requests', 'float'), ('booking_status', 'float'), ('features', 'vector')]\n"
          ]
        }
      ]
    },
    {
      "cell_type": "code",
      "source": [
        "feature_cols = ['no_of_adults', 'no_of_children', 'no_of_weekend_nights',\n",
        "             'no_of_week_nights', 'required_car_parking_space', 'lead_time',\n",
        "             'repeated_guest', 'no_of_previous_cancellations',\n",
        "             'no_of_previous_bookings_not_canceled', 'avg_price_per_room',\n",
        "             'no_of_special_requests']\n",
        "\n",
        "df = df.drop(\"features\")\n",
        "assembler = VectorAssembler(inputCols=feature_cols, outputCol=\"features\")\n",
        "df = assembler.transform(df)\n",
        "df = df.withColumn(\"booking_status\", when(df[\"booking_status\"] == \"Not_Canceled\", 1).otherwise(0))\n"
      ],
      "metadata": {
        "id": "PcvoC82P1UPJ"
      },
      "execution_count": 262,
      "outputs": []
    },
    {
      "cell_type": "code",
      "source": [
        "unique_labels = df.select(\"booking_status\").distinct().count()\n",
        "print(f\"Number of unique labels: {unique_labels}\")"
      ],
      "metadata": {
        "colab": {
          "base_uri": "https://localhost:8080/"
        },
        "id": "wxplcKsy1_4J",
        "outputId": "15472990-8048-423a-fb7f-ad160a27ce58"
      },
      "execution_count": 263,
      "outputs": [
        {
          "output_type": "stream",
          "name": "stdout",
          "text": [
            "Number of unique labels: 2\n"
          ]
        }
      ]
    },
    {
      "cell_type": "code",
      "source": [
        "df.select(\"booking_status\").distinct().show()"
      ],
      "metadata": {
        "colab": {
          "base_uri": "https://localhost:8080/"
        },
        "id": "NlxHJ__O2Fzw",
        "outputId": "52c07ea4-b855-4206-eb63-3fc76f2fa94a"
      },
      "execution_count": 264,
      "outputs": [
        {
          "output_type": "stream",
          "name": "stdout",
          "text": [
            "+--------------+\n",
            "|booking_status|\n",
            "+--------------+\n",
            "|             1|\n",
            "|             0|\n",
            "+--------------+\n",
            "\n"
          ]
        }
      ]
    },
    {
      "cell_type": "code",
      "source": [
        "num_features_model = len(model.summary())\n",
        "num_features_data = len(feature_cols)\n",
        "\n",
        "print(f\"Number of features in the model: {num_features_model}\")\n",
        "print(f\"Number of features in the data: {num_features_data}\")"
      ],
      "metadata": {
        "colab": {
          "base_uri": "https://localhost:8080/"
        },
        "id": "qsE8ZEHs23xG",
        "outputId": "b0dce71f-aa34-4f30-89d3-c1395f371cc1"
      },
      "execution_count": 275,
      "outputs": [
        {
          "output_type": "stream",
          "name": "stdout",
          "text": [
            "Model Summary:\n",
            "------------------------------------------------------------------------------------------------------------------------\n",
            "Layer (type)                            Output Shape              Param #       Connected to                          \n",
            "========================================================================================================================\n",
            "Inputc55c414a (Input)                   (None, 20)                0                                                   \n",
            "________________________________________________________________________________________________________________________\n",
            "Densed978f592 (Dense)                   (None, 64)                1344          Inputc55c414a                         \n",
            "________________________________________________________________________________________________________________________\n",
            "Dense18ebe94a (Dense)                   (None, 32)                2080          Densed978f592                         \n",
            "________________________________________________________________________________________________________________________\n",
            "Dense80c97aad (Dense)                   (None, 2)                 66            Dense18ebe94a                         \n",
            "________________________________________________________________________________________________________________________\n",
            "Total params: 3,490\n",
            "Trainable params: 3,490\n",
            "Non-trainable params: 0\n",
            "------------------------------------------------------------------------------------------------------------------------\n",
            "Number of features in the model: 1524\n",
            "Number of features in the data: 11\n"
          ]
        }
      ]
    },
    {
      "cell_type": "code",
      "source": [
        "df.printSchema()"
      ],
      "metadata": {
        "colab": {
          "base_uri": "https://localhost:8080/"
        },
        "id": "u_g6_SnI3dih",
        "outputId": "5c26e1e3-822b-4dd9-b93d-e83fc136ad3a"
      },
      "execution_count": 269,
      "outputs": [
        {
          "output_type": "stream",
          "name": "stdout",
          "text": [
            "root\n",
            " |-- Booking_ID: string (nullable = true)\n",
            " |-- no_of_adults: integer (nullable = true)\n",
            " |-- no_of_children: integer (nullable = true)\n",
            " |-- no_of_weekend_nights: integer (nullable = true)\n",
            " |-- no_of_week_nights: integer (nullable = true)\n",
            " |-- type_of_meal_plan: string (nullable = true)\n",
            " |-- required_car_parking_space: integer (nullable = true)\n",
            " |-- room_type_reserved: string (nullable = true)\n",
            " |-- lead_time: integer (nullable = true)\n",
            " |-- arrival_year: integer (nullable = true)\n",
            " |-- arrival_month: integer (nullable = true)\n",
            " |-- arrival_date: integer (nullable = true)\n",
            " |-- market_segment_type: string (nullable = true)\n",
            " |-- repeated_guest: integer (nullable = true)\n",
            " |-- no_of_previous_cancellations: integer (nullable = true)\n",
            " |-- no_of_previous_bookings_not_canceled: integer (nullable = true)\n",
            " |-- avg_price_per_room: double (nullable = true)\n",
            " |-- no_of_special_requests: integer (nullable = true)\n",
            " |-- booking_status: integer (nullable = false)\n",
            " |-- features: vector (nullable = true)\n",
            "\n"
          ]
        }
      ]
    },
    {
      "cell_type": "code",
      "source": [
        "# Fit the model\n",
        "trained_model = classifier.fit(df)"
      ],
      "metadata": {
        "id": "oTDKm6CTe4Z3"
      },
      "execution_count": null,
      "outputs": []
    },
    {
      "cell_type": "markdown",
      "source": [
        "Alhamdulillah :) (running: +60 minutes)"
      ],
      "metadata": {
        "id": "bj8MYqMCpApi"
      }
    },
    {
      "cell_type": "markdown",
      "source": [
        "### Hyperparameter Tuning\n",
        "<a name=\"hyperparameter-tuning\"></a>"
      ],
      "metadata": {
        "id": "MCjDQIZFp-xQ"
      }
    },
    {
      "cell_type": "markdown",
      "source": [
        "After an initial model training, we can perform a grid search to find the optimal hyperparameters for our model. In this case, we're interested in tuning the batch size and number of epochs."
      ],
      "metadata": {
        "id": "MvF52Q8tqDJx"
      }
    },
    {
      "cell_type": "code",
      "source": [
        "from pyspark.ml.tuning import CrossValidator, ParamGridBuilder"
      ],
      "metadata": {
        "id": "WiBQLUHZqE3m"
      },
      "execution_count": 181,
      "outputs": []
    },
    {
      "cell_type": "code",
      "source": [
        "# Define the grid of hyperparameters to search\n",
        "hyperparam_grid = ParamGridBuilder() \\\n",
        "    .addGrid(classifier.batchSize, [64, 128]) \\\n",
        "    .addGrid(classifier.maxEpoch, [50, 100]) \\\n",
        "    .build()"
      ],
      "metadata": {
        "id": "oDl-fJilqGnu"
      },
      "execution_count": 186,
      "outputs": []
    },
    {
      "cell_type": "code",
      "source": [
        "# Define cross-validation\n",
        "crossval = CrossValidator(estimator=classifier,\n",
        "                          estimatorParamMaps=hyperparam_grid,\n",
        "                          evaluator=MulticlassClassificationEvaluator(labelCol=\"booking_status\", predictionCol=\"prediction\"),\n",
        "                          numFolds=3)"
      ],
      "metadata": {
        "id": "ATrGV0X8qJBJ"
      },
      "execution_count": 187,
      "outputs": []
    },
    {
      "cell_type": "code",
      "source": [
        "# Run cross-validation\n",
        "cvModel = crossval.fit(df)\n"
      ],
      "metadata": {
        "colab": {
          "base_uri": "https://localhost:8080/"
        },
        "id": "7CwaXFnlqKhI",
        "outputId": "0f337d36-cd80-48bb-805c-45a1c34cb1e3"
      },
      "execution_count": 188,
      "outputs": [
        {
          "output_type": "stream",
          "name": "stdout",
          "text": [
            "creating: createToTuple\n",
            "creating: createChainedPreprocessing\n",
            "creating: createToTuple\n",
            "creating: createChainedPreprocessing\n",
            "creating: createToTuple\n",
            "creating: createChainedPreprocessing\n",
            "creating: createToTuple\n",
            "creating: createChainedPreprocessing\n",
            "creating: createToTuple\n",
            "creating: createChainedPreprocessing\n",
            "creating: createToTuple\n",
            "creating: createChainedPreprocessing\n",
            "creating: createToTuple\n",
            "creating: createChainedPreprocessing\n",
            "creating: createToTuple\n",
            "creating: createChainedPreprocessing\n",
            "creating: createToTuple\n",
            "creating: createChainedPreprocessing\n",
            "creating: createToTuple\n",
            "creating: createChainedPreprocessing\n",
            "creating: createToTuple\n",
            "creating: createChainedPreprocessing\n",
            "creating: createToTuple\n",
            "creating: createChainedPreprocessing\n",
            "creating: createToTuple\n",
            "creating: createChainedPreprocessing\n"
          ]
        }
      ]
    },
    {
      "cell_type": "code",
      "source": [
        "# Get the best model\n",
        "best_model = cvModel.bestModel\n",
        "print(\"Best model parameters: \\n\", best_model)"
      ],
      "metadata": {
        "colab": {
          "base_uri": "https://localhost:8080/"
        },
        "id": "vij0LwfcqMS4",
        "outputId": "b2866f8d-3468-4169-a5e5-aaa55b6d6563"
      },
      "execution_count": 189,
      "outputs": [
        {
          "output_type": "stream",
          "name": "stdout",
          "text": [
            "Best model parameters: \n",
            " nnClassifierModel_e93d28eaa752\n"
          ]
        }
      ]
    },
    {
      "cell_type": "markdown",
      "source": [
        "### Retraining Model with Optimized Parameters\n",
        "<a name=\"retraining-model-with-optimized-parameters\"></a>"
      ],
      "metadata": {
        "id": "MZt_b9Qfqx55"
      }
    },
    {
      "cell_type": "code",
      "source": [
        "best_model_params = cvModel.getEstimatorParamMaps()[ np.argmax(cvModel.avgMetrics) ]\n",
        "optimal_batch_size = best_model_params[classifier.batchSize]\n",
        "optimal_max_epoch = best_model_params[classifier.maxEpoch]"
      ],
      "metadata": {
        "id": "f69GwZ5GrTh7"
      },
      "execution_count": 192,
      "outputs": []
    },
    {
      "cell_type": "code",
      "source": [
        "# Define the model architecture with optimal hyperparameters\n",
        "optimal_classifier = NNClassifier(model, CrossEntropyCriterion())\\\n",
        "    .setOptimMethod(Adam())\\\n",
        "    .setBatchSize(optimal_batch_size)\\\n",
        "    .setMaxEpoch(optimal_max_epoch)\\\n",
        "    .setFeaturesCol(\"features\")\\\n",
        "    .setLabelCol(\"booking_status\")"
      ],
      "metadata": {
        "colab": {
          "base_uri": "https://localhost:8080/"
        },
        "id": "eRiCtc8_rGcG",
        "outputId": "5bbaa223-6c21-498c-ce53-2e9026dae131"
      },
      "execution_count": 193,
      "outputs": [
        {
          "output_type": "stream",
          "name": "stdout",
          "text": [
            "creating: createCrossEntropyCriterion\n",
            "creating: createSeqToTensor\n",
            "creating: createScalarToTensor\n",
            "creating: createFeatureLabelPreprocessing\n",
            "creating: createNNClassifier\n",
            "creating: createZooKerasAdam\n",
            "creating: createDefault\n"
          ]
        }
      ]
    },
    {
      "cell_type": "code",
      "source": [
        "# Fit the model\n",
        "optimal_trained_model = optimal_classifier.fit(df)"
      ],
      "metadata": {
        "colab": {
          "base_uri": "https://localhost:8080/"
        },
        "id": "cl74FBS8qzi7",
        "outputId": "660a09a8-eca5-4d32-e644-688af11ccc6b"
      },
      "execution_count": 195,
      "outputs": [
        {
          "output_type": "stream",
          "name": "stdout",
          "text": [
            "creating: createToTuple\n",
            "creating: createChainedPreprocessing\n"
          ]
        }
      ]
    },
    {
      "cell_type": "markdown",
      "source": [
        "Est 11 Minutes"
      ],
      "metadata": {
        "id": "ABJhmKkluQhF"
      }
    },
    {
      "cell_type": "markdown",
      "source": [
        "## Model Evaluation\n",
        "<a name=\"model-evaluation\"></a>"
      ],
      "metadata": {
        "id": "pCwxD7Z1uYQ-"
      }
    },
    {
      "cell_type": "markdown",
      "source": [
        "### Accuracy\n",
        "<a name=\"accuracy\"></a>"
      ],
      "metadata": {
        "id": "qMYlytBUua_d"
      }
    },
    {
      "cell_type": "markdown",
      "source": [
        "After training the model, it is important to evaluate its performance on the test data. One of the most common metrics for classification tasks is accuracy, which calculates the ratio of correctly predicted instances to the total instances in the dataset."
      ],
      "metadata": {
        "id": "07znq7o9udg-"
      }
    },
    {
      "cell_type": "code",
      "source": [
        "from pyspark.ml.evaluation import MulticlassClassificationEvaluator"
      ],
      "metadata": {
        "id": "gmk3OsNVugVM"
      },
      "execution_count": 196,
      "outputs": []
    },
    {
      "cell_type": "code",
      "source": [
        "# Compute accuracy on the test set\n",
        "evaluator = MulticlassClassificationEvaluator(labelCol=\"booking_status\", predictionCol=\"prediction\", metricName=\"accuracy\")\n",
        "accuracy = evaluator.evaluate(optimal_trained_model.transform(df))"
      ],
      "metadata": {
        "id": "euaLNND4uX2K"
      },
      "execution_count": 214,
      "outputs": []
    },
    {
      "cell_type": "code",
      "source": [
        "print(\"Test set accuracy = \" + str(accuracy))"
      ],
      "metadata": {
        "colab": {
          "base_uri": "https://localhost:8080/"
        },
        "id": "oaPX6hMuupFj",
        "outputId": "fd36fbec-d21a-446c-d16c-b9ceeabef090"
      },
      "execution_count": 213,
      "outputs": [
        {
          "output_type": "stream",
          "name": "stdout",
          "text": [
            "Test set accuracy = 1.0\n"
          ]
        }
      ]
    },
    {
      "cell_type": "code",
      "source": [
        "df.show()"
      ],
      "metadata": {
        "colab": {
          "base_uri": "https://localhost:8080/"
        },
        "id": "N4acH9Qhuwv6",
        "outputId": "8fd4d257-88b2-477c-cfa7-2d61c57881d6"
      },
      "execution_count": 201,
      "outputs": [
        {
          "output_type": "stream",
          "name": "stdout",
          "text": [
            "+------------+--------------+--------------------+-----------------+-----------------+--------------------------+------------------+---------+------------+-------------+------------+-------------------+--------------+----------------------------+------------------------------------+------------------+----------------------+--------------+-------------------------+--------------------------+----------------------+-------------------------+-----------------------+--------------------+---------------------+----------------------+------------------+-----------------------+------------------------+--------------------+---------------------------------+----------------------------------+------------------------------+--------------------+\n",
            "|no_of_adults|no_of_children|no_of_weekend_nights|no_of_week_nights|type_of_meal_plan|required_car_parking_space|room_type_reserved|lead_time|arrival_year|arrival_month|arrival_date|market_segment_type|repeated_guest|no_of_previous_cancellations|no_of_previous_bookings_not_canceled|avg_price_per_room|no_of_special_requests|booking_status|type_of_meal_plan_indexed|room_type_reserved_indexed|booking_status_indexed|market_segment_type_index|market_segment_type_vec|        new_features|type_of_meal_plan_vec|room_type_reserved_vec|booking_status_vec|type_of_meal_plan_index|room_type_reserved_index|booking_status_index|type_of_meal_plan_indexed_encoded|room_type_reserved_indexed_encoded|booking_status_indexed_encoded|            features|\n",
            "+------------+--------------+--------------------+-----------------+-----------------+--------------------------+------------------+---------+------------+-------------+------------+-------------------+--------------+----------------------------+------------------------------------+------------------+----------------------+--------------+-------------------------+--------------------------+----------------------+-------------------------+-----------------------+--------------------+---------------------+----------------------+------------------+-----------------------+------------------------+--------------------+---------------------------------+----------------------------------+------------------------------+--------------------+\n",
            "|           2|             0|                   1|                2|      Meal Plan 1|                         0|       Room_Type 1|      224|        2017|           10|           2|            Offline|             0|                           0|                                   0|              65.0|                     0|           1.0|                      0.0|                       0.0|                   0.0|                      1.0|          (4,[1],[1.0])|(36339,[0,2,3,5,6...|        (3,[0],[1.0])|         (6,[0],[1.0])|     (1,[0],[1.0])|                    0.0|                     0.0|                 0.0|                    (3,[0],[1.0])|                     (6,[0],[1.0])|                 (1,[0],[1.0])|(24,[0,3,9,10,12,...|\n",
            "|           2|             0|                   2|                3|     Not Selected|                         0|       Room_Type 1|        5|        2018|           11|           6|             Online|             0|                           0|                                   0|            106.68|                     1|           1.0|                      1.0|                       0.0|                   0.0|                      0.0|          (4,[0],[1.0])|(36339,[0,2,3,5,6...|        (3,[1],[1.0])|         (6,[0],[1.0])|     (1,[0],[1.0])|                    1.0|                     0.0|                 0.0|                    (3,[1],[1.0])|                     (6,[0],[1.0])|                 (1,[0],[1.0])|(24,[1,3,9,10,12,...|\n",
            "|           1|             0|                   2|                1|      Meal Plan 1|                         0|       Room_Type 1|        1|        2018|            2|          28|             Online|             0|                           0|                                   0|              60.0|                     0|           1.0|                      0.0|                       0.0|                   1.0|                      0.0|          (4,[0],[1.0])|(36339,[0,2,3,5,6...|        (3,[0],[1.0])|         (6,[0],[1.0])|         (1,[],[])|                    0.0|                     0.0|                 1.0|                    (3,[0],[1.0])|                     (6,[0],[1.0])|                     (1,[],[])|(24,[0,3,10,12,13...|\n",
            "|           2|             0|                   0|                2|      Meal Plan 1|                         0|       Room_Type 1|      211|        2018|            5|          20|             Online|             0|                           0|                                   0|             100.0|                     0|           1.0|                      0.0|                       0.0|                   1.0|                      0.0|          (4,[0],[1.0])|(36339,[0,3,5,6,7...|        (3,[0],[1.0])|         (6,[0],[1.0])|         (1,[],[])|                    0.0|                     0.0|                 1.0|                    (3,[0],[1.0])|                     (6,[0],[1.0])|                     (1,[],[])|(24,[0,3,10,13,15...|\n",
            "|           2|             0|                   1|                1|     Not Selected|                         0|       Room_Type 1|       48|        2018|            4|          11|             Online|             0|                           0|                                   0|              94.5|                     0|           1.0|                      1.0|                       0.0|                   1.0|                      0.0|          (4,[0],[1.0])|(36339,[0,2,3,5,6...|        (3,[1],[1.0])|         (6,[0],[1.0])|         (1,[],[])|                    1.0|                     0.0|                 1.0|                    (3,[1],[1.0])|                     (6,[0],[1.0])|                     (1,[],[])|(24,[1,3,10,12,13...|\n",
            "|           2|             0|                   0|                2|      Meal Plan 2|                         0|       Room_Type 1|      346|        2018|            9|          13|             Online|             0|                           0|                                   0|             115.0|                     1|           1.0|                      2.0|                       0.0|                   1.0|                      0.0|          (4,[0],[1.0])|(36339,[0,3,5,6,7...|        (3,[2],[1.0])|         (6,[0],[1.0])|         (1,[],[])|                    2.0|                     0.0|                 1.0|                    (3,[2],[1.0])|                     (6,[0],[1.0])|                     (1,[],[])|(24,[2,3,10,13,15...|\n",
            "|           2|             0|                   1|                3|      Meal Plan 1|                         0|       Room_Type 1|       34|        2017|           10|          15|             Online|             0|                           0|                                   0|            107.55|                     1|           1.0|                      0.0|                       0.0|                   0.0|                      0.0|          (4,[0],[1.0])|(36339,[0,2,3,5,6...|        (3,[0],[1.0])|         (6,[0],[1.0])|     (1,[0],[1.0])|                    0.0|                     0.0|                 0.0|                    (3,[0],[1.0])|                     (6,[0],[1.0])|                 (1,[0],[1.0])|(24,[0,3,9,10,12,...|\n",
            "|           2|             0|                   1|                3|      Meal Plan 1|                         0|       Room_Type 4|       83|        2018|           12|          26|             Online|             0|                           0|                                   0|            105.61|                     1|           1.0|                      0.0|                       1.0|                   0.0|                      0.0|          (4,[0],[1.0])|(36339,[0,2,3,5,6...|        (3,[0],[1.0])|         (6,[1],[1.0])|     (1,[0],[1.0])|                    0.0|                     1.0|                 0.0|                    (3,[0],[1.0])|                     (6,[1],[1.0])|                 (1,[0],[1.0])|(24,[0,4,9,10,12,...|\n",
            "|           3|             0|                   0|                4|      Meal Plan 1|                         0|       Room_Type 1|      121|        2018|            7|           6|            Offline|             0|                           0|                                   0|              96.9|                     1|           1.0|                      0.0|                       0.0|                   0.0|                      1.0|          (4,[1],[1.0])|(36339,[0,3,5,6,7...|        (3,[0],[1.0])|         (6,[0],[1.0])|     (1,[0],[1.0])|                    0.0|                     0.0|                 0.0|                    (3,[0],[1.0])|                     (6,[0],[1.0])|                 (1,[0],[1.0])|(24,[0,3,9,10,13,...|\n",
            "|           2|             0|                   0|                5|      Meal Plan 1|                         0|       Room_Type 4|       44|        2018|           10|          18|             Online|             0|                           0|                                   0|            133.44|                     3|           1.0|                      0.0|                       1.0|                   0.0|                      0.0|          (4,[0],[1.0])|(36339,[0,3,5,6,7...|        (3,[0],[1.0])|         (6,[1],[1.0])|     (1,[0],[1.0])|                    0.0|                     1.0|                 0.0|                    (3,[0],[1.0])|                     (6,[1],[1.0])|                 (1,[0],[1.0])|(24,[0,4,9,10,13,...|\n",
            "|           1|             0|                   1|                0|     Not Selected|                         0|       Room_Type 1|        0|        2018|            9|          11|             Online|             0|                           0|                                   0|             85.03|                     0|           1.0|                      1.0|                       0.0|                   0.0|                      0.0|          (4,[0],[1.0])|(36339,[0,2,6,7,8...|        (3,[1],[1.0])|         (6,[0],[1.0])|     (1,[0],[1.0])|                    1.0|                     0.0|                 0.0|                    (3,[1],[1.0])|                     (6,[0],[1.0])|                 (1,[0],[1.0])|(24,[1,3,9,10,12,...|\n",
            "|           1|             0|                   2|                1|      Meal Plan 1|                         0|       Room_Type 4|       35|        2018|            4|          30|             Online|             0|                           0|                                   0|             140.4|                     1|           1.0|                      0.0|                       1.0|                   0.0|                      0.0|          (4,[0],[1.0])|(36339,[0,2,3,5,6...|        (3,[0],[1.0])|         (6,[1],[1.0])|     (1,[0],[1.0])|                    0.0|                     1.0|                 0.0|                    (3,[0],[1.0])|                     (6,[1],[1.0])|                 (1,[0],[1.0])|(24,[0,4,9,10,12,...|\n",
            "|           2|             0|                   2|                1|     Not Selected|                         0|       Room_Type 1|       30|        2018|           11|          26|             Online|             0|                           0|                                   0|              88.0|                     0|           1.0|                      1.0|                       0.0|                   1.0|                      0.0|          (4,[0],[1.0])|(36339,[0,2,3,5,6...|        (3,[1],[1.0])|         (6,[0],[1.0])|         (1,[],[])|                    1.0|                     0.0|                 1.0|                    (3,[1],[1.0])|                     (6,[0],[1.0])|                     (1,[],[])|(24,[1,3,10,12,13...|\n",
            "|           1|             0|                   2|                0|      Meal Plan 1|                         0|       Room_Type 1|       95|        2018|           11|          20|             Online|             0|                           0|                                   0|              90.0|                     2|           1.0|                      0.0|                       0.0|                   1.0|                      0.0|          (4,[0],[1.0])|(36339,[0,2,5,6,7...|        (3,[0],[1.0])|         (6,[0],[1.0])|         (1,[],[])|                    0.0|                     0.0|                 1.0|                    (3,[0],[1.0])|                     (6,[0],[1.0])|                     (1,[],[])|(24,[0,3,10,12,15...|\n",
            "|           2|             0|                   0|                2|      Meal Plan 1|                         0|       Room_Type 1|       47|        2017|           10|          20|             Online|             0|                           0|                                   0|              94.5|                     2|           1.0|                      0.0|                       0.0|                   0.0|                      0.0|          (4,[0],[1.0])|(36339,[0,3,5,6,7...|        (3,[0],[1.0])|         (6,[0],[1.0])|     (1,[0],[1.0])|                    0.0|                     0.0|                 0.0|                    (3,[0],[1.0])|                     (6,[0],[1.0])|                 (1,[0],[1.0])|(24,[0,3,9,10,13,...|\n",
            "|           2|             0|                   0|                2|      Meal Plan 2|                         0|       Room_Type 1|      256|        2018|            6|          15|             Online|             0|                           0|                                   0|             115.0|                     1|           1.0|                      2.0|                       0.0|                   1.0|                      0.0|          (4,[0],[1.0])|(36339,[0,3,5,6,7...|        (3,[2],[1.0])|         (6,[0],[1.0])|         (1,[],[])|                    2.0|                     0.0|                 1.0|                    (3,[2],[1.0])|                     (6,[0],[1.0])|                     (1,[],[])|(24,[2,3,10,13,15...|\n",
            "|           1|             0|                   1|                0|      Meal Plan 1|                         0|       Room_Type 1|        0|        2017|           10|           5|            Offline|             0|                           0|                                   0|              96.0|                     0|           1.0|                      0.0|                       0.0|                   0.0|                      1.0|          (4,[1],[1.0])|(36339,[0,2,6,7,8...|        (3,[0],[1.0])|         (6,[0],[1.0])|     (1,[0],[1.0])|                    0.0|                     0.0|                 0.0|                    (3,[0],[1.0])|                     (6,[0],[1.0])|                 (1,[0],[1.0])|(24,[0,3,9,10,12,...|\n",
            "|           2|             0|                   1|                3|     Not Selected|                         0|       Room_Type 1|        1|        2017|            8|          10|             Online|             0|                           0|                                   0|              96.0|                     1|           1.0|                      1.0|                       0.0|                   0.0|                      0.0|          (4,[0],[1.0])|(36339,[0,2,3,5,6...|        (3,[1],[1.0])|         (6,[0],[1.0])|     (1,[0],[1.0])|                    1.0|                     0.0|                 0.0|                    (3,[1],[1.0])|                     (6,[0],[1.0])|                 (1,[0],[1.0])|(24,[1,3,9,10,12,...|\n",
            "|           2|             0|                   2|                2|      Meal Plan 1|                         0|       Room_Type 1|       99|        2017|           10|          30|             Online|             0|                           0|                                   0|              65.0|                     0|           1.0|                      0.0|                       0.0|                   1.0|                      0.0|          (4,[0],[1.0])|(36339,[0,2,3,5,6...|        (3,[0],[1.0])|         (6,[0],[1.0])|         (1,[],[])|                    0.0|                     0.0|                 1.0|                    (3,[0],[1.0])|                     (6,[0],[1.0])|                     (1,[],[])|(24,[0,3,10,12,13...|\n",
            "|           2|             0|                   1|                0|      Meal Plan 1|                         0|       Room_Type 1|       12|        2017|           10|           4|            Offline|             0|                           0|                                   0|              72.0|                     0|           1.0|                      0.0|                       0.0|                   0.0|                      1.0|          (4,[1],[1.0])|(36339,[0,2,5,6,7...|        (3,[0],[1.0])|         (6,[0],[1.0])|     (1,[0],[1.0])|                    0.0|                     0.0|                 0.0|                    (3,[0],[1.0])|                     (6,[0],[1.0])|                 (1,[0],[1.0])|(24,[0,3,9,10,12,...|\n",
            "+------------+--------------+--------------------+-----------------+-----------------+--------------------------+------------------+---------+------------+-------------+------------+-------------------+--------------+----------------------------+------------------------------------+------------------+----------------------+--------------+-------------------------+--------------------------+----------------------+-------------------------+-----------------------+--------------------+---------------------+----------------------+------------------+-----------------------+------------------------+--------------------+---------------------------------+----------------------------------+------------------------------+--------------------+\n",
            "only showing top 20 rows\n",
            "\n"
          ]
        }
      ]
    },
    {
      "cell_type": "code",
      "source": [
        "optimal_trained_model"
      ],
      "metadata": {
        "colab": {
          "base_uri": "https://localhost:8080/"
        },
        "id": "7iWrbY98u0a3",
        "outputId": "774bafb7-5e0f-4d57-97b1-2c4776cbb832"
      },
      "execution_count": 204,
      "outputs": [
        {
          "output_type": "execute_result",
          "data": {
            "text/plain": [
              "NNClassifierModel_0c877d7a625a"
            ]
          },
          "metadata": {},
          "execution_count": 204
        }
      ]
    },
    {
      "cell_type": "markdown",
      "source": [
        "Confusion Matrix\n",
        "<a name=\"confusion-matrix\"></a>"
      ],
      "metadata": {
        "id": "wIdNFo_vu7EN"
      }
    },
    {
      "cell_type": "markdown",
      "source": [
        "Confusion matrix is another tool that is often used to measure the performance of a machine learning model. It provides a more detailed breakdown of correct and incorrect classifications for each class."
      ],
      "metadata": {
        "id": "bwWs3ckau8KB"
      }
    },
    {
      "cell_type": "code",
      "source": [
        "from pyspark.mllib.evaluation import MulticlassMetrics"
      ],
      "metadata": {
        "id": "qlxzTuqRu90h"
      },
      "execution_count": 205,
      "outputs": []
    },
    {
      "cell_type": "code",
      "source": [
        "# Compute raw scores on the test set\n",
        "predictionAndLabels = optimal_trained_model.transform(df).select(\"prediction\", \"booking_status\").rdd.map(lambda p: (float(p.prediction), float(p.booking_status)))"
      ],
      "metadata": {
        "id": "ZnsQTD66u_Oq"
      },
      "execution_count": 207,
      "outputs": []
    },
    {
      "cell_type": "code",
      "source": [
        "# Instantiate metrics object\n",
        "metrics = MulticlassMetrics(predictionAndLabels)"
      ],
      "metadata": {
        "id": "hqhR_jHsvEO3"
      },
      "execution_count": 208,
      "outputs": []
    },
    {
      "cell_type": "code",
      "source": [
        "# Confusion Matrix\n",
        "print(metrics.confusionMatrix().toArray())"
      ],
      "metadata": {
        "colab": {
          "base_uri": "https://localhost:8080/"
        },
        "id": "21rOskwMvFcN",
        "outputId": "b0434ab0-994b-4820-b83a-4e49830c7360"
      },
      "execution_count": 209,
      "outputs": [
        {
          "output_type": "stream",
          "name": "stdout",
          "text": [
            "[[36275.]]\n"
          ]
        }
      ]
    },
    {
      "cell_type": "markdown",
      "source": [
        "Precision, Recall, and F1 Score\n",
        "<a name=\"precision-recall-f1-score\"></a>"
      ],
      "metadata": {
        "id": "NtS5BXZdvUIx"
      }
    },
    {
      "cell_type": "markdown",
      "source": [
        "Precision, recall and F1 score are metrics that measure the quality of predictions in binary or multi-class classification problems."
      ],
      "metadata": {
        "id": "VrApFdgOvVx7"
      }
    },
    {
      "cell_type": "code",
      "source": [
        "# Overall statistics\n",
        "labels = df.select(\"booking_status\").distinct().rdd.flatMap(lambda x: x).collect()\n",
        "precision = [metrics.precision(label) for label in labels]\n",
        "recall = [metrics.recall(label) for label in labels]\n",
        "f1Score = [metrics.fMeasure(label) for label in labels]\n",
        "print(\"Summary Stats\")\n",
        "print(\"Precision = %s\" % np.mean(precision))\n",
        "print(\"Recall = %s\" % np.mean(recall))\n",
        "print(\"F1 Score = %s\" % np.mean(f1Score))"
      ],
      "metadata": {
        "colab": {
          "base_uri": "https://localhost:8080/"
        },
        "id": "XavzuZhpvVOb",
        "outputId": "6f77c906-7789-4be3-acd1-a312bb0b8a1a"
      },
      "execution_count": 211,
      "outputs": [
        {
          "output_type": "stream",
          "name": "stdout",
          "text": [
            "Summary Stats\n",
            "Precision = 1.0\n",
            "Recall = 1.0\n",
            "F1 Score = 1.0\n"
          ]
        }
      ]
    },
    {
      "cell_type": "markdown",
      "source": [
        "## Visualization\n",
        "<a name=\"visualization\"></a>"
      ],
      "metadata": {
        "id": "Bv61IPxYwYVd"
      }
    },
    {
      "cell_type": "markdown",
      "source": [
        "### Data Visualization during Preprocessing\n",
        "<a name=\"data-visualization-during-preprocessing\"></a>"
      ],
      "metadata": {
        "id": "Vi5KhwKowaAi"
      }
    },
    {
      "cell_type": "markdown",
      "source": [
        "Throughout this project, we made use of PySpark's capabilities to process and analyze large-scale data. However, visualization played an important role in understanding the dataset and our model's performance as well.\n",
        "\n",
        "During the preprocessing phase, we examined the distributions of various features, which helped in detecting outliers and making appropriate transformations. For instance, using histogram plots allowed us to see if the features followed a normal distribution, which can be beneficial for many machine learning algorithms."
      ],
      "metadata": {
        "id": "0O4LxQPjwek8"
      }
    },
    {
      "cell_type": "code",
      "source": [
        "import pandas as pd"
      ],
      "metadata": {
        "id": "HgDqcED4wvfw"
      },
      "execution_count": 216,
      "outputs": []
    },
    {
      "cell_type": "code",
      "source": [
        "histogram = df.select(\"booking_status\").rdd.flatMap(lambda x: x).histogram(10)\n",
        "pd.DataFrame(\n",
        "    list(zip(*histogram)),\n",
        "    columns=['bin', 'frequency']\n",
        ").set_index(\n",
        "    'bin'\n",
        ").plot(kind='bar');\n"
      ],
      "metadata": {
        "colab": {
          "base_uri": "https://localhost:8080/",
          "height": 457
        },
        "id": "kyMzYdyYwiiA",
        "outputId": "ef39d19a-aaa5-4b2c-9f81-129d561692d5"
      },
      "execution_count": 218,
      "outputs": [
        {
          "output_type": "display_data",
          "data": {
            "text/plain": [
              "<Figure size 640x480 with 1 Axes>"
            ],
            "image/png": "[encoded data removed]"
          },
          "metadata": {}
        }
      ]
    },
    {
      "cell_type": "markdown",
      "source": [
        "Data Visualization during Evaluation\n",
        "<a name=\"data-visualization-during-evaluation\"></a>"
      ],
      "metadata": {
        "id": "R1dX_p0f-Doy"
      }
    },
    {
      "cell_type": "code",
      "source": [
        "import seaborn as sns\n",
        "import matplotlib.pyplot as plt\n",
        "import pandas as pd\n",
        "from pyspark.mllib.evaluation import MulticlassMetrics"
      ],
      "metadata": {
        "id": "fJ_tPrYt-GZ0"
      },
      "execution_count": null,
      "outputs": []
    },
    {
      "cell_type": "code",
      "source": [
        "predictionAndLabels = optimal_trained_model.transform(df).select(\"prediction\", \"booking_status\").rdd.map(lambda p: (float(p.prediction), float(p.booking_status)))\n",
        "\n",
        "metrics = MulticlassMetrics(predictionAndLabels)"
      ],
      "metadata": {
        "id": "Emuj4Ej3-Ijl"
      },
      "execution_count": null,
      "outputs": []
    },
    {
      "cell_type": "code",
      "source": [
        "# Confusion Matrix\n",
        "confusion_matrix = metrics.confusionMatrix().toArray()\n",
        "df_cm = pd.DataFrame(confusion_matrix, index = [i for i in \"AB\"],\n",
        "                  columns = [i for i in \"AB\"])\n",
        "plt.figure(figsize = (10,7))\n",
        "sns.heatmap(df_cm, annot=True)"
      ],
      "metadata": {
        "id": "y6b5_AFq-Kjs"
      },
      "execution_count": null,
      "outputs": []
    },
    {
      "cell_type": "markdown",
      "source": [
        "## Conclusion\n",
        "<a name=\"conclusion\"></a>"
      ],
      "metadata": {
        "id": "_E_Xm16_-MuG"
      }
    },
    {
      "cell_type": "markdown",
      "source": [
        "In this project, we demonstrated the application of Deep Learning models using BigDL DLlib on Spark for a large-scale classification task. Our work incorporated all steps involved in a typical Machine Learning pipeline, including Data Acquisition, Preprocessing, Feature Engineering, Model Building, Parameter Tuning, and Evaluation. The chosen Deep Learning model demonstrated promising results on our data.\n",
        "\n",
        "We must note that, despite the solid performance of our model, further improvements could potentially be achieved with more extensive hyperparameter tuning, consideration of different model architectures, or additional feature engineering.\n",
        "\n",
        "Additionally, the project highlighted the powerful capabilities of Apache Spark in handling large datasets and performing distributed computing, making it an ideal choice for Big Data tasks. Furthermore, the integration of BigDL DLlib allowed us to leverage state-of-the-art Deep Learning techniques within the Spark ecosystem, presenting a potent combination of tools for advanced analytics and machine learning tasks."
      ],
      "metadata": {
        "id": "DL_4BKdV-OVN"
      }
    }
  ]
}